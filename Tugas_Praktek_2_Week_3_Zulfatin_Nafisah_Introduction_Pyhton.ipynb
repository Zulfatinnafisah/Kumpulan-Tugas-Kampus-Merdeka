{
  "cells": [
    {
      "cell_type": "markdown",
      "metadata": {
        "id": "4LJ4os9GNkt7"
      },
      "source": [
        "#**Exercise 1**"
      ]
    },
    {
      "cell_type": "markdown",
      "metadata": {
        "id": "ZxgBMqwqFrdy"
      },
      "source": [
        "**Basic Python**"
      ]
    },
    {
      "cell_type": "markdown",
      "metadata": {
        "id": "ysPNn9tKHzlF"
      },
      "source": [
        "Soal 1 Variable String\n",
        "\n",
        "1.) Buatlah sebuah variabel bernama bank, isi variabel tersebut dengan \"Great Edu\"\n",
        "\n",
        "2.) Cetak hasilnya\n"
      ]
    },
    {
      "cell_type": "code",
      "execution_count": null,
      "metadata": {
        "colab": {
          "base_uri": "https://localhost:8080/"
        },
        "id": "PMtNroeCFISg",
        "outputId": "a78cb6bb-41e2-41f7-ef6d-fbf1fe5c2521"
      },
      "outputs": [
        {
          "name": "stdout",
          "output_type": "stream",
          "text": [
            "Great Edu\n"
          ]
        }
      ],
      "source": [
        "bank = \"Great Edu\"\n",
        "print (bank)"
      ]
    },
    {
      "cell_type": "markdown",
      "metadata": {
        "id": "C3MS6NpsIcWr"
      },
      "source": [
        "**Strings**"
      ]
    },
    {
      "cell_type": "markdown",
      "metadata": {
        "id": "r5NZ_bPMIfRD"
      },
      "source": [
        "Soal 2 Indexed\n",
        "\n",
        "1.) Ambil kata \"great\" dari variabel course\n",
        "\n",
        "2.) Ubah teks tersebut menjadi kapital semua"
      ]
    },
    {
      "cell_type": "code",
      "execution_count": null,
      "metadata": {
        "colab": {
          "base_uri": "https://localhost:8080/",
          "height": 35
        },
        "id": "jXxcFSQUMsXu",
        "outputId": "08af9954-ed21-42b2-93e9-89f7d47386b4"
      },
      "outputs": [
        {
          "data": {
            "application/vnd.google.colaboratory.intrinsic+json": {
              "type": "string"
            },
            "text/plain": [
              "'GREAT'"
            ]
          },
          "execution_count": 2,
          "metadata": {},
          "output_type": "execute_result"
        }
      ],
      "source": [
        "course = \"great\"\n",
        "course.upper()"
      ]
    },
    {
      "cell_type": "markdown",
      "metadata": {
        "id": "cXL5z-zJIruV"
      },
      "source": [
        "**List**"
      ]
    },
    {
      "cell_type": "markdown",
      "metadata": {
        "id": "nMfiQnmgJKSo"
      },
      "source": [
        "Soal 3 Check type\n",
        "\n",
        "1.) Buatlah sebuah variabel bernama flower1 isi variabel tersebut dengan [Daisy, Dandelion, Rose]\n",
        "\n",
        "2.) Cek type data variabel tersebut"
      ]
    },
    {
      "cell_type": "code",
      "execution_count": null,
      "metadata": {
        "colab": {
          "base_uri": "https://localhost:8080/"
        },
        "id": "8n4oO9-oNNqS",
        "outputId": "740af1d4-cb3a-436c-b464-26c0858dc596"
      },
      "outputs": [
        {
          "name": "stdout",
          "output_type": "stream",
          "text": [
            "<class 'list'>\n"
          ]
        }
      ],
      "source": [
        "flower1 = ['Daisy','Dandelion','Rose']\n",
        "print(type(flower1))"
      ]
    },
    {
      "cell_type": "markdown",
      "metadata": {
        "id": "rI_HsykoJby6"
      },
      "source": [
        "**List**"
      ]
    },
    {
      "cell_type": "markdown",
      "metadata": {
        "id": "1WShSw4XJivb"
      },
      "source": [
        "Soal 4 Nested List\n",
        "\n",
        "1.) Buatlah sebuah variabel bernama flower2 isi variabel tersebut dengan [Sunflower, Tulip]\n",
        "\n",
        "1.) Buar variabel type list dengan nama flower, berisi flower1, flower2\n",
        "\n",
        "3.) Cetak hasilnya"
      ]
    },
    {
      "cell_type": "code",
      "execution_count": null,
      "metadata": {
        "colab": {
          "base_uri": "https://localhost:8080/"
        },
        "id": "d4eOp_4LOesU",
        "outputId": "94bf54d2-38ca-49b0-8516-6928bff3747a"
      },
      "outputs": [
        {
          "name": "stdout",
          "output_type": "stream",
          "text": [
            "[['Daisy', 'Dandelion', 'Rose'], ['Sunflower', 'Tulip']]\n"
          ]
        }
      ],
      "source": [
        "flower2 = ['Sunflower','Tulip']\n",
        "flower = [flower1, flower2]\n",
        "print(flower)"
      ]
    },
    {
      "cell_type": "markdown",
      "metadata": {
        "id": "djzxDTWDJ6Hk"
      },
      "source": [
        "**List**"
      ]
    },
    {
      "cell_type": "markdown",
      "metadata": {
        "id": "-umPwz4-J-rG"
      },
      "source": [
        "Soal 5 Indexed list\n",
        "\n",
        "1.) Ambil nama bunga Rose dari index variabel flower1\n",
        "\n",
        "2.) Ubah teks tersebut menjadi huruf kecil semua"
      ]
    },
    {
      "cell_type": "code",
      "execution_count": null,
      "metadata": {
        "colab": {
          "base_uri": "https://localhost:8080/",
          "height": 35
        },
        "id": "hBLzA9VvKgXJ",
        "outputId": "3007040b-6cca-40dc-897c-1e5fa5e7b2a1"
      },
      "outputs": [
        {
          "data": {
            "application/vnd.google.colaboratory.intrinsic+json": {
              "type": "string"
            },
            "text/plain": [
              "'rose'"
            ]
          },
          "execution_count": 8,
          "metadata": {},
          "output_type": "execute_result"
        }
      ],
      "source": [
        "flower1 = ['Daisy','Dandelion','Rose']\n",
        "flower1[2].lower()"
      ]
    },
    {
      "cell_type": "markdown",
      "metadata": {
        "id": "wNDhwsP2NqVd"
      },
      "source": [
        "#**Exercise 2**"
      ]
    },
    {
      "cell_type": "markdown",
      "metadata": {
        "id": "CZN03borNtzB"
      },
      "source": [
        "**Tuple**"
      ]
    },
    {
      "cell_type": "markdown",
      "metadata": {
        "id": "VHlwk7IWN3ci"
      },
      "source": [
        "Soal 1\n",
        "\n",
        "1.) Buatlah sebuah variabel bernama fruits, isi variabel tersebut dengan \"apple, banana, cherry, orange, kiwi, melon, mango\"\n",
        "\n",
        "2.) Cek typenya!"
      ]
    },
    {
      "cell_type": "code",
      "execution_count": 27,
      "metadata": {
        "colab": {
          "base_uri": "https://localhost:8080/"
        },
        "id": "MNaZ1Qp3NzWO",
        "outputId": "51ef474f-e6d7-4b87-dea0-28146a2f5dda"
      },
      "outputs": [
        {
          "output_type": "stream",
          "name": "stdout",
          "text": [
            "<class 'tuple'>\n"
          ]
        }
      ],
      "source": [
        "fruits  = ('apple','banana','cherry','orange','kiwi','melon','mango')\n",
        "print(type(fruits))"
      ]
    },
    {
      "cell_type": "markdown",
      "metadata": {
        "id": "deiRE5T4OYSO"
      },
      "source": [
        "**Tuple**"
      ]
    },
    {
      "cell_type": "markdown",
      "metadata": {
        "id": "IqQhXl5XOeXL"
      },
      "source": [
        "Soal 2\n",
        "\n",
        "1.) Ambil item apple sebanyak 2, orange 1, mango 3\n",
        "\n",
        "2.) Simpan dengan nama variabel add\n",
        "\n",
        "3.) Cetak hasilnya"
      ]
    },
    {
      "cell_type": "code",
      "execution_count": 28,
      "metadata": {
        "colab": {
          "base_uri": "https://localhost:8080/"
        },
        "id": "dNizV4ENOcxV",
        "outputId": "06999d4a-73d3-49c1-b06d-4ffeb69d449b"
      },
      "outputs": [
        {
          "output_type": "stream",
          "name": "stdout",
          "text": [
            "('apple', 'apple', 'orange', 'mango', 'mango', 'mango')\n"
          ]
        }
      ],
      "source": [
        "add = ((fruits[0:1])*2 + (fruits[3:4]) + (fruits[6:7])*3)\n",
        "print(add)"
      ]
    },
    {
      "cell_type": "markdown",
      "metadata": {
        "id": "nAZTTPimQgko"
      },
      "source": [
        "**Tuple**"
      ]
    },
    {
      "cell_type": "markdown",
      "metadata": {
        "id": "jOzDEWNDQim0"
      },
      "source": [
        "Soal 3\n",
        "\n",
        "1.) Buat variabel new dengan berisi gabungkan variabel add dengan variabel fruits\n",
        "\n",
        "2.) Urutkan isi variabel new"
      ]
    },
    {
      "cell_type": "code",
      "execution_count": 29,
      "metadata": {
        "colab": {
          "base_uri": "https://localhost:8080/"
        },
        "id": "H-N_LfkAQd44",
        "outputId": "3ad4d79e-ee63-43a6-9fbe-c7d79dfe2541"
      },
      "outputs": [
        {
          "output_type": "stream",
          "name": "stdout",
          "text": [
            "['apple', 'apple', 'apple', 'banana', 'cherry', 'kiwi', 'mango', 'mango', 'mango', 'mango', 'melon', 'orange', 'orange']\n"
          ]
        }
      ],
      "source": [
        "new = (add + fruits)\n",
        "print(sorted(new))"
      ]
    },
    {
      "cell_type": "markdown",
      "metadata": {
        "id": "c6ySnGs0RYw8"
      },
      "source": [
        "**Set**"
      ]
    },
    {
      "cell_type": "markdown",
      "metadata": {
        "id": "HlL16knCRcU8"
      },
      "source": [
        "Soal 4\n",
        "\n",
        "1.) Ubah variable new dari tipe data tuple menjadi set\n",
        "\n",
        "2.) Tambahkan item pear\n",
        "\n",
        "3.) Cetak hasilnya dan hitung jumlah itemnya"
      ]
    },
    {
      "cell_type": "code",
      "execution_count": 32,
      "metadata": {
        "colab": {
          "base_uri": "https://localhost:8080/"
        },
        "id": "FIxueJPSRgaB",
        "outputId": "e3d13fad-934f-4dd2-9b22-3cafaf069328"
      },
      "outputs": [
        {
          "output_type": "stream",
          "name": "stdout",
          "text": [
            "{'banana', 'melon', 'mango', 'orange', 'kiwi', 'pear', 'cherry', 'apple'}\n"
          ]
        }
      ],
      "source": [
        "new = set(new)\n",
        "print(new)"
      ]
    },
    {
      "cell_type": "code",
      "source": [
        "new.add('pear')\n",
        "print(new)"
      ],
      "metadata": {
        "colab": {
          "base_uri": "https://localhost:8080/"
        },
        "id": "fonxzysxbLpe",
        "outputId": "46680346-b921-4fc6-d0f5-62516566c3ac"
      },
      "execution_count": 33,
      "outputs": [
        {
          "output_type": "stream",
          "name": "stdout",
          "text": [
            "{'banana', 'melon', 'mango', 'orange', 'kiwi', 'pear', 'cherry', 'apple'}\n"
          ]
        }
      ]
    },
    {
      "cell_type": "code",
      "execution_count": 34,
      "metadata": {
        "colab": {
          "base_uri": "https://localhost:8080/"
        },
        "id": "KUtn-_ySSBy6",
        "outputId": "453b9a94-fb33-4452-f1f5-ee180d0b81ef"
      },
      "outputs": [
        {
          "output_type": "stream",
          "name": "stdout",
          "text": [
            "8\n"
          ]
        }
      ],
      "source": [
        "new = list(new)\n",
        "print(len(new))"
      ]
    },
    {
      "cell_type": "markdown",
      "source": [
        "**Dictionary**"
      ],
      "metadata": {
        "id": "zZ1HV2XcbSxX"
      }
    },
    {
      "cell_type": "markdown",
      "source": [
        "Soal 5\n",
        "\n",
        "1.) Buatlah sebuah variabel bernama cars dengan ketentuan\n",
        "\n",
        "{\"Toyota Vios\":270000000,\n",
        "\n",
        "\"Toyota Yaris\":235000000,\n",
        "\n",
        "\"Honda Civic\":400000000,\n",
        "\n",
        "\"Nissan Skyline\":690000000,\n",
        "\n",
        "\"Honda City\":312000000}\n",
        "\n",
        "1.) Cetak hasilnya\n",
        "\n",
        "3.) Cetak typenya"
      ],
      "metadata": {
        "id": "RVcD_YKTbWj-"
      }
    },
    {
      "cell_type": "code",
      "source": [
        "cars = {\"Toyota Vios\":270000000, \"Toyota Yaris\":235000000, \"Honda Civic\":400000000, \"Nissan Skyline\":690000000, \"Honda City\":312000000}\n",
        "print(cars)"
      ],
      "metadata": {
        "colab": {
          "base_uri": "https://localhost:8080/"
        },
        "id": "qgcen6jKbZei",
        "outputId": "1fba9cd5-f173-4195-d181-f4748e465c35"
      },
      "execution_count": 35,
      "outputs": [
        {
          "output_type": "stream",
          "name": "stdout",
          "text": [
            "{'Toyota Vios': 270000000, 'Toyota Yaris': 235000000, 'Honda Civic': 400000000, 'Nissan Skyline': 690000000, 'Honda City': 312000000}\n"
          ]
        }
      ]
    },
    {
      "cell_type": "code",
      "source": [
        "print(type(cars))"
      ],
      "metadata": {
        "colab": {
          "base_uri": "https://localhost:8080/"
        },
        "id": "7L2jMC6gbrQD",
        "outputId": "83bf0394-60e1-4623-d167-fe58af07d3bb"
      },
      "execution_count": 36,
      "outputs": [
        {
          "output_type": "stream",
          "name": "stdout",
          "text": [
            "<class 'dict'>\n"
          ]
        }
      ]
    },
    {
      "cell_type": "markdown",
      "source": [
        "**Dictionary**"
      ],
      "metadata": {
        "id": "TYgFsLs1buNy"
      }
    },
    {
      "cell_type": "markdown",
      "source": [
        "Soal 6\n",
        "\n",
        "1.) Tambahkan key dan value dibawah ini BMW M3:1900000000\n",
        "\n",
        "1.) Cetak hasilnya dengan ketentuan diurutkan berdasarkan\n",
        "item\n",
        "\n"
      ],
      "metadata": {
        "id": "cZ-n8iUhbwoD"
      }
    },
    {
      "cell_type": "code",
      "source": [
        "cars2 = {\"BMW M3\":1900000000}\n",
        "cars.update(cars2)\n",
        "print(cars)"
      ],
      "metadata": {
        "colab": {
          "base_uri": "https://localhost:8080/"
        },
        "id": "38SifSgib1In",
        "outputId": "217a3808-b67e-4126-9d55-136fe4ce2d25"
      },
      "execution_count": 37,
      "outputs": [
        {
          "output_type": "stream",
          "name": "stdout",
          "text": [
            "{'Toyota Vios': 270000000, 'Toyota Yaris': 235000000, 'Honda Civic': 400000000, 'Nissan Skyline': 690000000, 'Honda City': 312000000, 'BMW M3': 1900000000}\n"
          ]
        }
      ]
    },
    {
      "cell_type": "code",
      "source": [
        "print(sorted(cars))"
      ],
      "metadata": {
        "colab": {
          "base_uri": "https://localhost:8080/"
        },
        "id": "tMP7LpAWcnSp",
        "outputId": "2417598a-41ac-47b8-dd5f-c6362879bcbc"
      },
      "execution_count": 38,
      "outputs": [
        {
          "output_type": "stream",
          "name": "stdout",
          "text": [
            "['BMW M3', 'Honda City', 'Honda Civic', 'Nissan Skyline', 'Toyota Vios', 'Toyota Yaris']\n"
          ]
        }
      ]
    },
    {
      "cell_type": "markdown",
      "source": [
        "**Dictionary**"
      ],
      "metadata": {
        "id": "JOuiTZBUcrmQ"
      }
    },
    {
      "cell_type": "markdown",
      "source": [
        "Soal 7\n",
        "\n",
        "1.) Ubah value Nissan Skyline menjadi 641000000\n",
        "\n",
        "2.) Cetak hasilnya"
      ],
      "metadata": {
        "id": "kH-Urdc-cuX-"
      }
    },
    {
      "cell_type": "code",
      "source": [
        "cars['Nissan Skyline'] = 641000000\n",
        "print(cars['Nissan Skyline'])"
      ],
      "metadata": {
        "colab": {
          "base_uri": "https://localhost:8080/"
        },
        "id": "ty0bDELscxHD",
        "outputId": "9f7a85ab-1424-418d-8c39-5bdfdcdd8e58"
      },
      "execution_count": 39,
      "outputs": [
        {
          "output_type": "stream",
          "name": "stdout",
          "text": [
            "641000000\n"
          ]
        }
      ]
    },
    {
      "cell_type": "markdown",
      "source": [
        "**Dictionary**"
      ],
      "metadata": {
        "id": "wdLI6fExcz7T"
      }
    },
    {
      "cell_type": "markdown",
      "source": [
        "Soal 8\n",
        "\n",
        "1.) Ubah key Nissan Skyline menjadi Honda Accord\n",
        "\n",
        "2.) Cetak hasilnya"
      ],
      "metadata": {
        "id": "IfTLjdAnc2Fu"
      }
    },
    {
      "cell_type": "code",
      "source": [
        "cars['Honda Accord'] = cars['Nissan Skyline']\n",
        "del cars['Nissan Skyline']\n",
        "print(cars)"
      ],
      "metadata": {
        "colab": {
          "base_uri": "https://localhost:8080/"
        },
        "id": "EgFlC7oD-rsp",
        "outputId": "5a5b22e7-eea9-4efa-a1d6-61d4b8ad21b4"
      },
      "execution_count": 40,
      "outputs": [
        {
          "output_type": "stream",
          "name": "stdout",
          "text": [
            "{'Toyota Vios': 270000000, 'Toyota Yaris': 235000000, 'Honda Civic': 400000000, 'Honda City': 312000000, 'BMW M3': 1900000000, 'Honda Accord': 641000000}\n"
          ]
        }
      ]
    },
    {
      "cell_type": "markdown",
      "source": [
        "**Dictionary**"
      ],
      "metadata": {
        "id": "VQRkViZUc41w"
      }
    },
    {
      "cell_type": "markdown",
      "source": [
        "Soal 9\n",
        "\n",
        "1.) Buat variabel cars_set dengan type data set berisi value dari variabel cars\n",
        "\n",
        "2.) Buat variable cars_total dengan berisi total dari seluruh item\n",
        "\n",
        "3.) Cetak hasilnya"
      ],
      "metadata": {
        "id": "kS2frxsac_it"
      }
    },
    {
      "cell_type": "code",
      "source": [
        "cars_set = list(cars.values())\n",
        "print(cars_set)"
      ],
      "metadata": {
        "colab": {
          "base_uri": "https://localhost:8080/"
        },
        "id": "QDqS54yr_aj2",
        "outputId": "3bd89245-b818-499d-9b81-37115826aa32"
      },
      "execution_count": 41,
      "outputs": [
        {
          "output_type": "stream",
          "name": "stdout",
          "text": [
            "[270000000, 235000000, 400000000, 312000000, 1900000000, 641000000]\n"
          ]
        }
      ]
    },
    {
      "cell_type": "code",
      "source": [
        "cars_total = sum(cars_set)\n",
        "print(cars_total)"
      ],
      "metadata": {
        "colab": {
          "base_uri": "https://localhost:8080/"
        },
        "id": "75Ne3aaf_h0N",
        "outputId": "77936de0-fbc4-46b7-911f-465485c1a9d1"
      },
      "execution_count": 42,
      "outputs": [
        {
          "output_type": "stream",
          "name": "stdout",
          "text": [
            "3758000000\n"
          ]
        }
      ]
    },
    {
      "cell_type": "markdown",
      "source": [
        "**Dictionary**"
      ],
      "metadata": {
        "id": "zXLDAZs7dB2C"
      }
    },
    {
      "cell_type": "markdown",
      "source": [
        "Soal 10\n",
        "\n",
        "1.) Tambahkan key Total pada variabel cars dengan value cars total\n",
        "\n",
        "2.) Cetak hasilnya"
      ],
      "metadata": {
        "id": "f_LZz9V0dFVj"
      }
    },
    {
      "cell_type": "code",
      "source": [
        "cars['Total'] = cars_total\n",
        "print(cars)"
      ],
      "metadata": {
        "colab": {
          "base_uri": "https://localhost:8080/"
        },
        "id": "ie_rR6Yr_pDH",
        "outputId": "70fb52e4-4327-472e-bc55-bdc2b3bcd1e8"
      },
      "execution_count": 43,
      "outputs": [
        {
          "output_type": "stream",
          "name": "stdout",
          "text": [
            "{'Toyota Vios': 270000000, 'Toyota Yaris': 235000000, 'Honda Civic': 400000000, 'Honda City': 312000000, 'BMW M3': 1900000000, 'Honda Accord': 641000000, 'Total': 3758000000}\n"
          ]
        }
      ]
    },
    {
      "cell_type": "markdown",
      "source": [
        "#**Exercise 3**"
      ],
      "metadata": {
        "id": "OKVoSmJ6dmXa"
      }
    },
    {
      "cell_type": "markdown",
      "source": [
        "**Checking for equality**"
      ],
      "metadata": {
        "id": "9KHnMMgbdt6F"
      }
    },
    {
      "cell_type": "markdown",
      "source": [
        "Soal 1\n",
        "\n",
        "1.) Buatlah sebuah variabel bernama animal, isi variabel tersebut dengan ‘cat’\n",
        "\n",
        "2.) Cetak hasilnya dengan output *True*"
      ],
      "metadata": {
        "id": "PNmVKxw9dxEx"
      }
    },
    {
      "cell_type": "code",
      "source": [
        "animal = 'cat'\n",
        "animal == 'cat'"
      ],
      "metadata": {
        "colab": {
          "base_uri": "https://localhost:8080/"
        },
        "id": "UbDfqWv5d2ZH",
        "outputId": "52f67bed-3592-4fc8-a589-eb938e423669"
      },
      "execution_count": 45,
      "outputs": [
        {
          "output_type": "execute_result",
          "data": {
            "text/plain": [
              "True"
            ]
          },
          "metadata": {},
          "execution_count": 45
        }
      ]
    },
    {
      "cell_type": "markdown",
      "source": [
        "**Checking for equality**"
      ],
      "metadata": {
        "id": "9HK7pWwoeFZD"
      }
    },
    {
      "cell_type": "markdown",
      "source": [
        "Soal 2\n",
        "\n",
        "1.) Buatlah sebuah variabel bernama year, isi variabel tersebut dengan 1997\n",
        "\n",
        "2.) Cetak hasilnya dengan output *False*"
      ],
      "metadata": {
        "id": "5AsMf45geHor"
      }
    },
    {
      "cell_type": "code",
      "source": [
        "year = 1997\n",
        "year == 2022"
      ],
      "metadata": {
        "colab": {
          "base_uri": "https://localhost:8080/"
        },
        "id": "9oh6TmqbeKpW",
        "outputId": "f237003d-e668-4993-ca5f-41fbb2c2468e"
      },
      "execution_count": 46,
      "outputs": [
        {
          "output_type": "execute_result",
          "data": {
            "text/plain": [
              "False"
            ]
          },
          "metadata": {},
          "execution_count": 46
        }
      ]
    },
    {
      "cell_type": "markdown",
      "source": [
        "**Check multiple conditions**"
      ],
      "metadata": {
        "id": "bIjOUFz0ePAs"
      }
    },
    {
      "cell_type": "markdown",
      "source": [
        "Soal 3\n",
        "\n",
        "1.) Buatlah sebuah variabel bernama **umur1**, isi variabel tersebut dengan **23**\n",
        "\n",
        "2.) Buatlah sebuah variabel bernama **umur2**, isi variabel tersebut dengan **26**\n",
        "\n",
        "3.) Cetak hasilnya dengan output *True*"
      ],
      "metadata": {
        "id": "FPgsNAXreRcY"
      }
    },
    {
      "cell_type": "code",
      "source": [
        "umur1 = 23\n",
        "umur2 = 26\n",
        "if umur1 == 23 and umur2 == 26:\n",
        "    print(True)\n",
        "else:\n",
        "    print(False)"
      ],
      "metadata": {
        "colab": {
          "base_uri": "https://localhost:8080/"
        },
        "id": "2c8mHpt_eUBL",
        "outputId": "ead85544-9de6-4117-c922-23dffe30834c"
      },
      "execution_count": 47,
      "outputs": [
        {
          "output_type": "stream",
          "name": "stdout",
          "text": [
            "True\n"
          ]
        }
      ]
    },
    {
      "cell_type": "markdown",
      "source": [
        "**Testing if a value is in a list**"
      ],
      "metadata": {
        "id": "qxcPP828eYOZ"
      }
    },
    {
      "cell_type": "markdown",
      "source": [
        "Soal 4\n",
        "\n",
        "1.) Buatlah sebuah list **mobil** dengan isi **bmw, nissan, honda, toyota**\n",
        "\n",
        "2.) Cetak hasilnya dengan output *True*"
      ],
      "metadata": {
        "id": "oV4V3aGAeaJl"
      }
    },
    {
      "cell_type": "code",
      "source": [
        "mobil = ['bmw', 'nissan', 'honda', 'toyota']\n",
        "if mobil == ['bmw', 'nissan', 'honda', 'toyota']:\n",
        "    print(True)\n",
        "else:\n",
        "    print(False)"
      ],
      "metadata": {
        "colab": {
          "base_uri": "https://localhost:8080/"
        },
        "id": "_kboz8mv_3Re",
        "outputId": "50237fc0-f671-43bb-c8c1-e0292a71c7d0"
      },
      "execution_count": 48,
      "outputs": [
        {
          "output_type": "stream",
          "name": "stdout",
          "text": [
            "True\n"
          ]
        }
      ]
    },
    {
      "cell_type": "markdown",
      "source": [
        "#**Exercise 4**"
      ],
      "metadata": {
        "id": "q3xGm5W2edLr"
      }
    },
    {
      "cell_type": "markdown",
      "source": [
        "**Variables**"
      ],
      "metadata": {
        "id": "va36IMRWfAmM"
      }
    },
    {
      "cell_type": "markdown",
      "source": [
        "Exercise\n",
        "\n",
        "define several variables\n",
        "\n",
        "name = 'Callum'\n",
        "\n",
        "height = 178.394509\n",
        "\n",
        "age = 39\n",
        "\n",
        "1.) Print the customer name, height and age in one line,\n",
        "\n",
        "2.) Give 2 numbers after full stop on height variable\n",
        "\n",
        "3.) format print: customer name is henny, height: 178.05 cm and age: 39"
      ],
      "metadata": {
        "id": "66TFKutCe8DN"
      }
    },
    {
      "cell_type": "code",
      "source": [
        "name = 'Callum'\n",
        "height = 178.394509\n",
        "age = 39\n",
        "\n",
        "print('name:',name ,'height:',height ,'age:',age)"
      ],
      "metadata": {
        "colab": {
          "base_uri": "https://localhost:8080/"
        },
        "id": "slCIfzT7fDjV",
        "outputId": "634e376b-99b0-47e0-aaf9-9b1e387a7e6a"
      },
      "execution_count": 49,
      "outputs": [
        {
          "output_type": "stream",
          "name": "stdout",
          "text": [
            "name: Callum height: 178.394509 age: 39\n"
          ]
        }
      ]
    },
    {
      "cell_type": "code",
      "source": [
        "print(\"%.2f\" % height )"
      ],
      "metadata": {
        "colab": {
          "base_uri": "https://localhost:8080/"
        },
        "id": "aEfME4WcfIcY",
        "outputId": "e2bf5c6a-e7d0-48d8-dba3-dae8f4cbcd6f"
      },
      "execution_count": 50,
      "outputs": [
        {
          "output_type": "stream",
          "name": "stdout",
          "text": [
            "178.39\n"
          ]
        }
      ]
    },
    {
      "cell_type": "code",
      "source": [
        "name = 'henny'\n",
        "height = 178.05\n",
        "age = 39\n",
        "print(\"customer name is %s, height: %d cm and age: %d\" % (name,height,age))"
      ],
      "metadata": {
        "colab": {
          "base_uri": "https://localhost:8080/"
        },
        "id": "HCWM8Kf7fNHe",
        "outputId": "950f280e-56b3-4d09-c528-10be28adac89"
      },
      "execution_count": 51,
      "outputs": [
        {
          "output_type": "stream",
          "name": "stdout",
          "text": [
            "customer name is henny, height: 178 cm and age: 39\n"
          ]
        }
      ]
    },
    {
      "cell_type": "markdown",
      "source": [
        " **Lists**"
      ],
      "metadata": {
        "id": "BJKwgGRTfPCd"
      }
    },
    {
      "cell_type": "markdown",
      "source": [
        "Exercise\n",
        "\n",
        "1.) Create a list of 6 customers\n",
        "\n",
        "Brian, Dian, Kristin, Donny, Andry, Stella\n",
        "\n",
        "2.) Print Andry from customer array\n",
        "\n",
        "3.) Print Donny from customer array"
      ],
      "metadata": {
        "id": "mce-80ccfQ24"
      }
    },
    {
      "cell_type": "code",
      "source": [
        "customers = ['Brian', 'Dian','Kristin','Donny','Andry','Stella']\n",
        "customers"
      ],
      "metadata": {
        "colab": {
          "base_uri": "https://localhost:8080/"
        },
        "id": "qUeCRAppfTku",
        "outputId": "34ef9a3a-a267-4cd5-bd07-555c4f825c1c"
      },
      "execution_count": 52,
      "outputs": [
        {
          "output_type": "execute_result",
          "data": {
            "text/plain": [
              "['Brian', 'Dian', 'Kristin', 'Donny', 'Andry', 'Stella']"
            ]
          },
          "metadata": {},
          "execution_count": 52
        }
      ]
    },
    {
      "cell_type": "code",
      "source": [
        "customers[4]"
      ],
      "metadata": {
        "colab": {
          "base_uri": "https://localhost:8080/",
          "height": 35
        },
        "id": "Xsvove9mfWIm",
        "outputId": "ce8f89e8-25df-404b-bcce-0d6fcd332d42"
      },
      "execution_count": 53,
      "outputs": [
        {
          "output_type": "execute_result",
          "data": {
            "text/plain": [
              "'Andry'"
            ],
            "application/vnd.google.colaboratory.intrinsic+json": {
              "type": "string"
            }
          },
          "metadata": {},
          "execution_count": 53
        }
      ]
    },
    {
      "cell_type": "code",
      "source": [
        "customers[3]"
      ],
      "metadata": {
        "colab": {
          "base_uri": "https://localhost:8080/",
          "height": 35
        },
        "id": "rgS9frk3vIbq",
        "outputId": "c4a29b43-5e8c-4565-e5fe-789fbe483438"
      },
      "execution_count": 54,
      "outputs": [
        {
          "output_type": "execute_result",
          "data": {
            "text/plain": [
              "'Donny'"
            ],
            "application/vnd.google.colaboratory.intrinsic+json": {
              "type": "string"
            }
          },
          "metadata": {},
          "execution_count": 54
        }
      ]
    },
    {
      "cell_type": "markdown",
      "source": [
        "**Lists**"
      ],
      "metadata": {
        "id": "gyF4kmMWfjKz"
      }
    },
    {
      "cell_type": "markdown",
      "source": [
        "Exercise\n",
        "\n",
        "1.) Create a matrix, one array can be stored multiple data type\n",
        "\n",
        "this matrix consist of customer name, salary and age\n",
        "\n",
        "['Brian', 100059540, 20],\n",
        "\n",
        "['Dian', 12036564, 28],\n",
        "\n",
        "['Kristin', 93465650, 25],\n",
        "\n",
        "['Donny', 376170, 30],\n",
        "\n",
        "['Andry', 7657120, 23],\n",
        "\n",
        "['Stella', 3452343, 29]\n",
        "\n",
        "2.) Print Andry's detail\n",
        "\n",
        "3.) Print Stella's age"
      ],
      "metadata": {
        "id": "f4MfzlGvfomz"
      }
    },
    {
      "cell_type": "code",
      "source": [
        "customer = [['Brian', 100059540, 20],\n",
        "            ['Dian', 12036564, 28],\n",
        "            ['Kristin', 93465650, 25],\n",
        "            ['Donny', 376170, 30],\n",
        "            ['Andry', 7657120, 23],\n",
        "            ['Stella', 3452343, 29]]\n",
        "\n",
        "customer"
      ],
      "metadata": {
        "colab": {
          "base_uri": "https://localhost:8080/"
        },
        "id": "505Qhs5ofrAR",
        "outputId": "4c5ce0a3-9edd-48ef-ad08-b9474cfe7f73"
      },
      "execution_count": 55,
      "outputs": [
        {
          "output_type": "execute_result",
          "data": {
            "text/plain": [
              "[['Brian', 100059540, 20],\n",
              " ['Dian', 12036564, 28],\n",
              " ['Kristin', 93465650, 25],\n",
              " ['Donny', 376170, 30],\n",
              " ['Andry', 7657120, 23],\n",
              " ['Stella', 3452343, 29]]"
            ]
          },
          "metadata": {},
          "execution_count": 55
        }
      ]
    },
    {
      "cell_type": "code",
      "source": [
        "print(customer[4])"
      ],
      "metadata": {
        "colab": {
          "base_uri": "https://localhost:8080/"
        },
        "id": "YZ8bp9YIfvOC",
        "outputId": "cd2dd01d-29ff-4797-95e1-dd044cbc3ac5"
      },
      "execution_count": 56,
      "outputs": [
        {
          "output_type": "stream",
          "name": "stdout",
          "text": [
            "['Andry', 7657120, 23]\n"
          ]
        }
      ]
    },
    {
      "cell_type": "code",
      "source": [
        "print(customer[5][2])"
      ],
      "metadata": {
        "colab": {
          "base_uri": "https://localhost:8080/"
        },
        "id": "VLOfObDufyR_",
        "outputId": "a3e55676-2e57-4f2d-ef71-617ef1b82008"
      },
      "execution_count": 57,
      "outputs": [
        {
          "output_type": "stream",
          "name": "stdout",
          "text": [
            "29\n"
          ]
        }
      ]
    },
    {
      "cell_type": "markdown",
      "source": [
        "**Conditions/if else**"
      ],
      "metadata": {
        "id": "s-7Dx4pHf127"
      }
    },
    {
      "cell_type": "markdown",
      "source": [
        "Exercise\n",
        "\n",
        "Create a program that groups a student into type of education level\n",
        "with these rules\n",
        "\n",
        "elementary: age from 6 - 12\n",
        "\n",
        "junior_hs: age from 12 - 15\n",
        "\n",
        "high_school: age from 15 - 18\n",
        "\n",
        "university: age from 18 - 22\n",
        "\n",
        "Ano = 19"
      ],
      "metadata": {
        "id": "gdiV0aRdf25i"
      }
    },
    {
      "cell_type": "code",
      "source": [
        "Ano = 19\n",
        "\n",
        "if 6 < Ano <= 12:\n",
        "  print(\"elementary\")\n",
        "elif 12 < Ano <= 15:\n",
        "  print(\"junior_hs\")\n",
        "elif 15 < Ano <= 18:\n",
        "  print(\"high_school\")\n",
        "elif 18 < Ano <= 22:\n",
        "  print(\"university\")  "
      ],
      "metadata": {
        "colab": {
          "base_uri": "https://localhost:8080/"
        },
        "id": "20O6lH7xWrQI",
        "outputId": "55678722-ce3c-43b1-d868-ff05ff77a377"
      },
      "execution_count": 58,
      "outputs": [
        {
          "output_type": "stream",
          "name": "stdout",
          "text": [
            "university\n"
          ]
        }
      ]
    },
    {
      "cell_type": "markdown",
      "source": [
        "**Looping**"
      ],
      "metadata": {
        "id": "kJtpOpOCgBAD"
      }
    },
    {
      "cell_type": "markdown",
      "source": [
        "Exercise\n",
        "\n",
        "1.) Create a list with 5 staffs\n",
        "\n",
        "staffs = ['Adi', 'Agil', 'Henny', 'Ano', 'Hengky']\n",
        "\n",
        "2.) Add one variable\n",
        "\n",
        "debts = [5430340.405, 30345.034, 93445.344, 245454.453, 842555.533]\n",
        "\n",
        "3.) Print the staff name from staffs variable and with their debts (with 2 numbers after full stop)\n",
        "\n",
        "example staff 1 : Adi has debt 5430340.4"
      ],
      "metadata": {
        "id": "l691IjaCgDoQ"
      }
    },
    {
      "cell_type": "code",
      "source": [
        "name = ['Adi', 'Agil', 'Henny', 'Ano', 'Hengky']\n",
        "staffs = []\n",
        "for i in name:\n",
        "  staffs.append(i)\n",
        "\n",
        "print(staffs)"
      ],
      "metadata": {
        "colab": {
          "base_uri": "https://localhost:8080/"
        },
        "id": "UMrNQ5o1gHpm",
        "outputId": "0d4bd806-a2ba-4541-c69c-1f00b8aa4d37"
      },
      "execution_count": 59,
      "outputs": [
        {
          "output_type": "stream",
          "name": "stdout",
          "text": [
            "['Adi', 'Agil', 'Henny', 'Ano', 'Hengky']\n"
          ]
        }
      ]
    },
    {
      "cell_type": "code",
      "source": [
        "debts = [5430340.405, 30345.034, 93445.344, 245454.453, 842555.533]"
      ],
      "metadata": {
        "id": "90dcKU9Bs5zx"
      },
      "execution_count": 60,
      "outputs": []
    },
    {
      "cell_type": "code",
      "source": [
        "for i in staffs:\n",
        "    for d in debts:\n",
        "        print(i + \" has debt \" + str(round(d,1)))"
      ],
      "metadata": {
        "colab": {
          "base_uri": "https://localhost:8080/"
        },
        "id": "f3HRgsrMs1Tx",
        "outputId": "4b9d6d0c-ca98-472c-cde9-c746dec1088e"
      },
      "execution_count": 61,
      "outputs": [
        {
          "output_type": "stream",
          "name": "stdout",
          "text": [
            "Adi has debt 5430340.4\n",
            "Adi has debt 30345.0\n",
            "Adi has debt 93445.3\n",
            "Adi has debt 245454.5\n",
            "Adi has debt 842555.5\n",
            "Agil has debt 5430340.4\n",
            "Agil has debt 30345.0\n",
            "Agil has debt 93445.3\n",
            "Agil has debt 245454.5\n",
            "Agil has debt 842555.5\n",
            "Henny has debt 5430340.4\n",
            "Henny has debt 30345.0\n",
            "Henny has debt 93445.3\n",
            "Henny has debt 245454.5\n",
            "Henny has debt 842555.5\n",
            "Ano has debt 5430340.4\n",
            "Ano has debt 30345.0\n",
            "Ano has debt 93445.3\n",
            "Ano has debt 245454.5\n",
            "Ano has debt 842555.5\n",
            "Hengky has debt 5430340.4\n",
            "Hengky has debt 30345.0\n",
            "Hengky has debt 93445.3\n",
            "Hengky has debt 245454.5\n",
            "Hengky has debt 842555.5\n"
          ]
        }
      ]
    },
    {
      "cell_type": "markdown",
      "source": [
        "**Function**"
      ],
      "metadata": {
        "id": "D3CL7y1EgP2m"
      }
    },
    {
      "cell_type": "markdown",
      "source": [
        "Exercise\n",
        "\n",
        "1.) Create a function that calculate total price\n",
        "\n",
        "food = 60000, drink = 20000, ppn = 10%, service charge =\n",
        "5%\n",
        "\n",
        "2.) Store the result into a variable\n",
        "\n",
        "3.) Print the result"
      ],
      "metadata": {
        "id": "JbrO9vlHgSU-"
      }
    },
    {
      "cell_type": "code",
      "source": [
        "def total_price(food, drink):\n",
        "    total = food + drink\n",
        "    ppn = 0.1 * total\n",
        "    sc = 0.05 * total\n",
        "    total_all = total + ppn + sc\n",
        "    return total_all\n",
        "\n",
        "total_price(60000, 20000)"
      ],
      "metadata": {
        "id": "xQZyM86PgVPk",
        "outputId": "b2279337-1482-4c0e-df11-bf41fd985b18",
        "colab": {
          "base_uri": "https://localhost:8080/"
        }
      },
      "execution_count": 62,
      "outputs": [
        {
          "output_type": "execute_result",
          "data": {
            "text/plain": [
              "92000.0"
            ]
          },
          "metadata": {},
          "execution_count": 62
        }
      ]
    }
  ],
  "metadata": {
    "colab": {
      "provenance": []
    },
    "kernelspec": {
      "display_name": "Python 3",
      "name": "python3"
    },
    "language_info": {
      "name": "python"
    }
  },
  "nbformat": 4,
  "nbformat_minor": 0
}