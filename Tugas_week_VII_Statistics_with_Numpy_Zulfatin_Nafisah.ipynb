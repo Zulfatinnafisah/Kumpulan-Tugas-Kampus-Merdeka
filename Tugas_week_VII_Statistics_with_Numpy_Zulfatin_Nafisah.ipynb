{
  "nbformat": 4,
  "nbformat_minor": 0,
  "metadata": {
    "colab": {
      "provenance": [],
      "include_colab_link": true
    },
    "kernelspec": {
      "name": "python3",
      "display_name": "Python 3"
    },
    "language_info": {
      "name": "python"
    }
  },
  "cells": [
    {
      "cell_type": "markdown",
      "metadata": {
        "id": "view-in-github",
        "colab_type": "text"
      },
      "source": [
        "<a href=\"https://colab.research.google.com/github/Zulfatinnafisah/Kumpulan-Tugas-Kampus-Merdeka/blob/main/Tugas_week_VII_Statistics_with_Numpy_Zulfatin_Nafisah.ipynb\" target=\"_parent\"><img src=\"https://colab.research.google.com/assets/colab-badge.svg\" alt=\"Open In Colab\"/></a>"
      ]
    },
    {
      "cell_type": "markdown",
      "source": [
        "#**Tugas NumPy Week 7**"
      ],
      "metadata": {
        "id": "g3K7BckT9lZj"
      }
    },
    {
      "cell_type": "markdown",
      "source": [
        "1.) Buatlah sebuah array dari nilai random antara 10-100 dengan ukuran 1x60\n",
        "\n",
        "Tentukan nilai berikut:\n",
        "- Nilai maksimum dan minimum\n",
        "- Rata-rata\n",
        "- Median dan Percentile 75\n",
        "- Rata-rata dari array tersebut dengan syarat nilai di atas 50"
      ],
      "metadata": {
        "id": "i7g-zK9L9yTd"
      }
    },
    {
      "cell_type": "code",
      "source": [
        "#import library numpy\n",
        "import numpy as np"
      ],
      "metadata": {
        "id": "2czU2u0SV3uS"
      },
      "execution_count": null,
      "outputs": []
    },
    {
      "cell_type": "code",
      "source": [
        "#membuat array dengan nilai random antara 10-100 dengan ukuran 1x60\n",
        "array =np.random.randint(10,100, size=60)\n",
        "print(array)"
      ],
      "metadata": {
        "colab": {
          "base_uri": "https://localhost:8080/"
        },
        "id": "cKLYyB3AWrde",
        "outputId": "85821f95-fb2d-409b-c09b-3cbc6147ccec"
      },
      "execution_count": null,
      "outputs": [
        {
          "output_type": "stream",
          "name": "stdout",
          "text": [
            "[45 38 29 41 62 88 38 30 99 82 39 82 60 58 54 25 69 23 45 75 53 85 75 99\n",
            " 77 75 24 75 61 88 48 94 61 21 64 62 60 85 21 33 23 26 88 62 57 98 73 93\n",
            " 34 83 65 26 47 56 19 46 27 48 93 37]\n"
          ]
        }
      ]
    },
    {
      "cell_type": "code",
      "source": [
        "#Mencari nilai maksimum dan minimum\n",
        "max = np.amax(array)\n",
        "min = np.amin(array)\n",
        "\n",
        "print('max: ', max)\n",
        "print('min:',min)"
      ],
      "metadata": {
        "colab": {
          "base_uri": "https://localhost:8080/"
        },
        "id": "mXUb6qdLXw59",
        "outputId": "2d7cfa10-a324-4074-f588-105a9e05789c"
      },
      "execution_count": null,
      "outputs": [
        {
          "output_type": "stream",
          "name": "stdout",
          "text": [
            "max:  99\n",
            "min: 19\n"
          ]
        }
      ]
    },
    {
      "cell_type": "code",
      "source": [
        "#Mencari nilai rata-rata\n",
        "rata_rata = np.average(array)\n",
        "print('rata-rata :',rata_rata)"
      ],
      "metadata": {
        "colab": {
          "base_uri": "https://localhost:8080/"
        },
        "id": "oUUVJQLBZSaV",
        "outputId": "35e4b54c-c05e-46ea-e6cc-ddbeb383d2fd"
      },
      "execution_count": null,
      "outputs": [
        {
          "output_type": "stream",
          "name": "stdout",
          "text": [
            "rata-rata : 57.4\n"
          ]
        }
      ]
    },
    {
      "cell_type": "code",
      "source": [
        "#Mencari Median dan Precentil 75\n",
        "median = np.median(array)\n",
        "percentile = np.percentile(array,75)\n",
        "\n",
        "print('median:',median)\n",
        "print('percentile: ',percentile)"
      ],
      "metadata": {
        "colab": {
          "base_uri": "https://localhost:8080/"
        },
        "id": "NhdxEX_8d9vt",
        "outputId": "b7fe892d-0c00-4fc9-b845-b21ee26e1616"
      },
      "execution_count": null,
      "outputs": [
        {
          "output_type": "stream",
          "name": "stdout",
          "text": [
            "median: 59.0\n",
            "percentile:  75.5\n"
          ]
        }
      ]
    },
    {
      "cell_type": "code",
      "source": [
        "#Mencari Rata-rata dari array tersebut dengan syarat nilai di atas 50\n",
        "average = np.average(array[array>50])\n",
        "print('average: ',average)"
      ],
      "metadata": {
        "id": "C1b0ogZgf7LP",
        "colab": {
          "base_uri": "https://localhost:8080/"
        },
        "outputId": "bd21b989-1dc4-4255-a4ed-58a34cf8fb9d"
      },
      "execution_count": null,
      "outputs": [
        {
          "output_type": "stream",
          "name": "stdout",
          "text": [
            "average:  74.6\n"
          ]
        }
      ]
    },
    {
      "cell_type": "markdown",
      "source": [
        "2.) Buatlah array1 dari nilai random normal ukuran 1 x 35\n",
        "\n",
        "Buatlah array1 yang berisi 35 elemen dengan jarak yang sama antara 1 sampai 103\n",
        "\n",
        "Tentukan nilai berikut:\n",
        "- Jarak dari array 1\n",
        "- Rata-rata dari array 2\n",
        "- Median dan Percentile 40 dari array 1\n",
        "- Rata-rata terboboti dari array 1 dengan array 2 sebagai bobotnya"
      ],
      "metadata": {
        "id": "7ivuLkTS96Sk"
      }
    },
    {
      "cell_type": "code",
      "source": [
        "#membuat array1 dari nilai random normal ukuran 1 x 35\n",
        "array1=np.random.randn(1,35)\n",
        "print(array1)"
      ],
      "metadata": {
        "colab": {
          "base_uri": "https://localhost:8080/"
        },
        "id": "g9410GjthUiN",
        "outputId": "20f66e8e-cd3b-427f-8ee7-878b2783d13f"
      },
      "execution_count": null,
      "outputs": [
        {
          "output_type": "stream",
          "name": "stdout",
          "text": [
            "[[ 0.38324488 -0.55469355 -0.91956195 -0.54764623 -0.56855648  0.42332719\n",
            "   0.60005047 -0.82215329  2.29390591 -1.02876811 -2.1397813  -1.24681092\n",
            "   0.65246882  1.21264349 -0.41510462  0.33117079 -0.04962805  1.4992582\n",
            "   1.16381384  0.53853634  0.78788827 -0.10981329 -1.18417626 -0.65166131\n",
            "  -0.30770086  0.66333376 -2.91628744  0.59488284  0.41223298  0.82664817\n",
            "  -0.68050153 -0.24859066 -2.44890786  2.2391604   0.5778623 ]]\n"
          ]
        }
      ]
    },
    {
      "cell_type": "code",
      "source": [
        "#membuat array2 yang berisi 35 elemen dengan jarak yang sama antara 1 sampai 103\n",
        "array2 = np.linspace(1,103,35)\n",
        "print(array2)"
      ],
      "metadata": {
        "colab": {
          "base_uri": "https://localhost:8080/"
        },
        "id": "OS1R7ieX6seJ",
        "outputId": "5cfe1240-318f-4edf-95aa-150823c9d5d8"
      },
      "execution_count": null,
      "outputs": [
        {
          "output_type": "stream",
          "name": "stdout",
          "text": [
            "[  1.   4.   7.  10.  13.  16.  19.  22.  25.  28.  31.  34.  37.  40.\n",
            "  43.  46.  49.  52.  55.  58.  61.  64.  67.  70.  73.  76.  79.  82.\n",
            "  85.  88.  91.  94.  97. 100. 103.]\n"
          ]
        }
      ]
    },
    {
      "cell_type": "code",
      "source": [
        "#mencari jarak dari array1\n",
        "jarak = np.ptp(array1, axis = None)\n",
        "print(jarak)"
      ],
      "metadata": {
        "colab": {
          "base_uri": "https://localhost:8080/"
        },
        "id": "DcqBQK3D7MED",
        "outputId": "2a65aeb5-5a8b-4133-c159-34b5caacfe48"
      },
      "execution_count": null,
      "outputs": [
        {
          "output_type": "stream",
          "name": "stdout",
          "text": [
            "5.210193356027668\n"
          ]
        }
      ]
    },
    {
      "cell_type": "code",
      "source": [
        "#mencari rata-rata dari array 2\n",
        "rata_rata = np.average(array2)\n",
        "print('rata-rata :',rata_rata)"
      ],
      "metadata": {
        "colab": {
          "base_uri": "https://localhost:8080/"
        },
        "id": "P8xBkCqI7PnO",
        "outputId": "e68706b9-09d2-4017-9695-209405f097be"
      },
      "execution_count": null,
      "outputs": [
        {
          "output_type": "stream",
          "name": "stdout",
          "text": [
            "rata-rata : 52.0\n"
          ]
        }
      ]
    },
    {
      "cell_type": "code",
      "source": [
        "#mencari median dan percentile 40 dari array 1\n",
        "median = np.median(array1)\n",
        "percentil = np.percentile(array1,40)\n",
        "\n",
        "print('median:',median)\n",
        "print('percentile: ',percentile)\n"
      ],
      "metadata": {
        "colab": {
          "base_uri": "https://localhost:8080/"
        },
        "id": "7rQx6HLV7k_p",
        "outputId": "94c18cff-28fa-4f4f-a083-0f9165bf4518"
      },
      "execution_count": null,
      "outputs": [
        {
          "output_type": "stream",
          "name": "stdout",
          "text": [
            "median: -0.04962805476842095\n",
            "percentile:  75.5\n"
          ]
        }
      ]
    },
    {
      "cell_type": "code",
      "source": [
        "#mencari Rata-rata terbobot dari array 1 dengan array 2 sebagai bobotnya\n",
        "bobot = np.average(array1, weights = array2, axis = 1)\n",
        "print('Rata-rata terbobot: ', bobot)"
      ],
      "metadata": {
        "colab": {
          "base_uri": "https://localhost:8080/"
        },
        "id": "KUo2F9GXCDbL",
        "outputId": "e8afe883-22c4-45ce-9dcf-da9bdc3f373d"
      },
      "execution_count": null,
      "outputs": [
        {
          "output_type": "stream",
          "name": "stdout",
          "text": [
            "Rata-rata terbobot:  [-0.01627727]\n"
          ]
        }
      ]
    },
    {
      "cell_type": "markdown",
      "source": [
        "3.) x = np.array( [ [12, 3, 42], [3, 5, 5], [69, 7, 83], [92, 0, 112] ] )\n",
        "- Buatlah sebuah fungsi index array dengan output element-element pada setiap pojok array\n",
        "tersebut\n",
        "- Hitunglah rata-rata dari setiap elemen yang berada pada pojok array tersebut"
      ],
      "metadata": {
        "id": "JWZPBv-7-Jxx"
      }
    },
    {
      "cell_type": "code",
      "source": [
        "#membuat array dengan nilai yang sudah diketahui\n",
        "x = np.array([[12, 3, 42], [3, 5, 5], [69, 7, 83], [92, 0, 112]])\n",
        "print(x)"
      ],
      "metadata": {
        "colab": {
          "base_uri": "https://localhost:8080/"
        },
        "id": "qeHrQsxQ9GRf",
        "outputId": "fe09edd1-4617-459f-c9db-06d1aa146808"
      },
      "execution_count": null,
      "outputs": [
        {
          "output_type": "stream",
          "name": "stdout",
          "text": [
            "[[ 12   3  42]\n",
            " [  3   5   5]\n",
            " [ 69   7  83]\n",
            " [ 92   0 112]]\n"
          ]
        }
      ]
    },
    {
      "cell_type": "code",
      "source": [
        "#membuat sebuah fungsi index array dengan output element-element pada setiap pojok array tersebut\n",
        "rows_x = np.array([[0,0],[3,3]])\n",
        "cols_x = np.array([[0,2],[0,2]])\n",
        "print(x[rows_x,cols_x])"
      ],
      "metadata": {
        "colab": {
          "base_uri": "https://localhost:8080/"
        },
        "id": "glN3bNa39q38",
        "outputId": "82696e30-1ab3-459a-9a73-c21d92a20607"
      },
      "execution_count": null,
      "outputs": [
        {
          "output_type": "stream",
          "name": "stdout",
          "text": [
            "[[ 12  42]\n",
            " [ 92 112]]\n"
          ]
        }
      ]
    },
    {
      "cell_type": "code",
      "source": [
        "#menghitung rata-rata dari setiap elemen yang berada pada pojok array tersebut\n",
        "arr = np.array(x[rows_x,cols_x])\n",
        "rata_rata = np.average(arr)\n",
        "print('rata-rata :',rata_rata)"
      ],
      "metadata": {
        "colab": {
          "base_uri": "https://localhost:8080/"
        },
        "id": "7t_oCkht-q9Z",
        "outputId": "b2223c0c-059f-4954-ab33-59d5f5423e12"
      },
      "execution_count": null,
      "outputs": [
        {
          "output_type": "stream",
          "name": "stdout",
          "text": [
            "rata-rata : 64.5\n"
          ]
        }
      ]
    },
    {
      "cell_type": "markdown",
      "source": [
        "4.) Buatlah sebuah array dari kumpulan angka berikut:\n",
        "\n",
        "a = [ 48, 83, 92, 68, 98, 29, 94, 2, 22, 43, 60, 62, 23, 46, 83 ]\n",
        "\n",
        "b = [ 30, 53, 49, 57, 67, 88, 16, 6, 17, 84, 18, 76, 96, 75, 9 ]\n",
        "\n",
        "c = [ 75, 29, 40, 50, 90, 13, 68, 41, 85, 20, 57, 96, 45, 49, 85 ]\n",
        "\n",
        "d = [ 1, 22, 85, 78, 53, 54, 81, 49, 88, 87, 71, 17, 78, 31, 8 ]\n",
        "\n",
        "Dari 4 array tersebut, tentukan korelasi mana yang paling tinggi !"
      ],
      "metadata": {
        "id": "Lot39v3G-mgQ"
      }
    },
    {
      "cell_type": "code",
      "source": [
        "#membuat array dari beberapa kumpulan angka\n",
        "a = np.array([48, 83, 92, 68, 98, 29, 94, 2, 22, 43, 60, 62, 23, 46, 83])\n",
        "b = np.array([30, 53, 49, 57, 67, 88, 16, 6, 17, 84, 18, 76, 96, 75, 9 ])\n",
        "c = np.array([75, 29, 40, 50, 90, 13, 68, 41, 85, 20, 57, 96, 45, 49, 85])\n",
        "d = np.array([1, 22, 85, 78, 53, 54, 81, 49, 88, 87, 71, 17, 78, 31, 8])\n",
        "print(a)\n",
        "print(b)\n",
        "print(c)\n",
        "print(d)"
      ],
      "metadata": {
        "colab": {
          "base_uri": "https://localhost:8080/"
        },
        "id": "e5OOcCEx_N4W",
        "outputId": "3e6964ba-b623-4d13-f00b-f7a9c1f4a63d"
      },
      "execution_count": null,
      "outputs": [
        {
          "output_type": "stream",
          "name": "stdout",
          "text": [
            "[48 83 92 68 98 29 94  2 22 43 60 62 23 46 83]\n",
            "[30 53 49 57 67 88 16  6 17 84 18 76 96 75  9]\n",
            "[75 29 40 50 90 13 68 41 85 20 57 96 45 49 85]\n",
            "[ 1 22 85 78 53 54 81 49 88 87 71 17 78 31  8]\n"
          ]
        }
      ]
    },
    {
      "cell_type": "code",
      "source": [
        "corr_1 = np.corrcoef(a,b)\n",
        "corr_1"
      ],
      "metadata": {
        "colab": {
          "base_uri": "https://localhost:8080/"
        },
        "id": "3ZOElLRnAE6L",
        "outputId": "078a5a57-4106-4678-85e3-833089ac4c01"
      },
      "execution_count": null,
      "outputs": [
        {
          "output_type": "execute_result",
          "data": {
            "text/plain": [
              "array([[ 1.        , -0.08452885],\n",
              "       [-0.08452885,  1.        ]])"
            ]
          },
          "metadata": {},
          "execution_count": 94
        }
      ]
    },
    {
      "cell_type": "code",
      "source": [
        "corr_2= np.corrcoef(a,c)\n",
        "corr_2"
      ],
      "metadata": {
        "colab": {
          "base_uri": "https://localhost:8080/"
        },
        "id": "AbrfoQjkCpg8",
        "outputId": "bd9e4f83-f36c-47ee-8d20-0d84dea58685"
      },
      "execution_count": null,
      "outputs": [
        {
          "output_type": "execute_result",
          "data": {
            "text/plain": [
              "array([[1.        , 0.30115763],\n",
              "       [0.30115763, 1.        ]])"
            ]
          },
          "metadata": {},
          "execution_count": 95
        }
      ]
    },
    {
      "cell_type": "code",
      "source": [
        "corr_3 = np.corrcoef(a,d)\n",
        "corr_3"
      ],
      "metadata": {
        "colab": {
          "base_uri": "https://localhost:8080/"
        },
        "id": "aVqxUDMLC1Nf",
        "outputId": "4ae37c70-c0ea-4548-e65c-57bc6221b70d"
      },
      "execution_count": null,
      "outputs": [
        {
          "output_type": "execute_result",
          "data": {
            "text/plain": [
              "array([[ 1.        , -0.10303972],\n",
              "       [-0.10303972,  1.        ]])"
            ]
          },
          "metadata": {},
          "execution_count": 96
        }
      ]
    },
    {
      "cell_type": "code",
      "source": [
        "corr_4 = np.corrcoef(b,c)\n",
        "corr_4"
      ],
      "metadata": {
        "colab": {
          "base_uri": "https://localhost:8080/"
        },
        "id": "LvqG4CmRC_D2",
        "outputId": "53f7a22a-0b99-4f6a-b118-e9f31cff5ce9"
      },
      "execution_count": null,
      "outputs": [
        {
          "output_type": "execute_result",
          "data": {
            "text/plain": [
              "array([[ 1.        , -0.38040816],\n",
              "       [-0.38040816,  1.        ]])"
            ]
          },
          "metadata": {},
          "execution_count": 97
        }
      ]
    },
    {
      "cell_type": "code",
      "source": [
        "corr_5 = np.corrcoef(b,d)\n",
        "corr_5"
      ],
      "metadata": {
        "colab": {
          "base_uri": "https://localhost:8080/"
        },
        "id": "0NRNjbl7DEmK",
        "outputId": "764f1bf4-fb62-4818-e52e-c1b4af45a72a"
      },
      "execution_count": null,
      "outputs": [
        {
          "output_type": "execute_result",
          "data": {
            "text/plain": [
              "array([[1.        , 0.09601181],\n",
              "       [0.09601181, 1.        ]])"
            ]
          },
          "metadata": {},
          "execution_count": 98
        }
      ]
    },
    {
      "cell_type": "code",
      "source": [
        "corr_6 = np.corrcoef(c,d)\n",
        "corr_6"
      ],
      "metadata": {
        "colab": {
          "base_uri": "https://localhost:8080/"
        },
        "id": "iESPDtu0DJqL",
        "outputId": "73a5335b-6444-4ff8-e1e4-95ea2d0f8390"
      },
      "execution_count": null,
      "outputs": [
        {
          "output_type": "execute_result",
          "data": {
            "text/plain": [
              "array([[ 1.       , -0.3135953],\n",
              "       [-0.3135953,  1.       ]])"
            ]
          },
          "metadata": {},
          "execution_count": 99
        }
      ]
    },
    {
      "cell_type": "markdown",
      "source": [
        "Kesimpulan : Pada variable corr_2 memiliki nilai positif dan bernilai besar dibanding corr_5, maka dari itu array yang memiliki korelasi yang paling tinggi adalah array A dengan C"
      ],
      "metadata": {
        "id": "0mqYuEKkgfen"
      }
    },
    {
      "cell_type": "markdown",
      "source": [
        "5.) Buatlah sebuah array dari kumpulan angka berikut\n",
        "\n",
        "[ 1, 9, 6, 10, 59, 48, 7, 26, 68, 13, 2, 88, 1, 12, 36, 24, 11,77, 66, 81, 21, 98, 63, 66, 28, 72, 28, 34, 59, 37, 69, 8, 18, 36, 4, 87, 53, 83, 54, 92, 70, 27, 2, 91, 71, 61, 58, 52, 67, 10 ]\n",
        "\n",
        "Dari array tersebut, buatlah sebuah histogram dan tentukan jumlah data yang berada pada rentang 65-70 dan 40-50 !"
      ],
      "metadata": {
        "id": "VtnAtFJK_EdY"
      }
    },
    {
      "cell_type": "code",
      "source": [
        "#membuat array dari kumpulan angka yang sudah diketahui\n",
        "arr = np.array([ 1, 9, 6, 10, 59, 48, 7, 26, 68, 13, 2, 88, 1, 12, 36, 24, 11,77, 66, 81, 21, 98, 63, 66, 28, 72, 28, 34, 59, 37, 69, 8, 18, 36, 4, 87, 53, 83, 54, 92, 70, 27, 2, 91, 71, 61, 58, 52, 67, 10])\n",
        "\n",
        "#import library pyplot\n",
        "from matplotlib import pyplot as plt\n",
        "\n",
        "#creating plot\n",
        "fig = plt.figure(figsize =(7, 6))\n",
        "\n",
        "plt.hist(arr, bins = [40, 50, 65, 70,])\n",
        "\n",
        "plt.title('Histogram rentang 65-70 & 40-50')\n",
        "\n",
        "#show plot\n",
        "plt.show()\n"
      ],
      "metadata": {
        "colab": {
          "base_uri": "https://localhost:8080/",
          "height": 390
        },
        "id": "iZnItssaDZG_",
        "outputId": "7f0c0cc7-6813-4496-a6a4-cf70db9b1330"
      },
      "execution_count": null,
      "outputs": [
        {
          "output_type": "display_data",
          "data": {
            "text/plain": [
              "<Figure size 504x432 with 1 Axes>"
            ],
            "image/png": "[encoded data removed]"
          },
          "metadata": {
            "needs_background": "light"
          }
        }
      ]
    }
  ]
}