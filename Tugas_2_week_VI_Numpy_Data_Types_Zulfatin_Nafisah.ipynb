{
  "nbformat": 4,
  "nbformat_minor": 0,
  "metadata": {
    "colab": {
      "provenance": [],
      "authorship_tag": "ABX9TyNC4zeHi5BslpPhr+iY4GO6",
      "include_colab_link": true
    },
    "kernelspec": {
      "name": "python3",
      "display_name": "Python 3"
    },
    "language_info": {
      "name": "python"
    }
  },
  "cells": [
    {
      "cell_type": "markdown",
      "metadata": {
        "id": "view-in-github",
        "colab_type": "text"
      },
      "source": [
        "<a href=\"https://colab.research.google.com/github/Zulfatinnafisah/Kumpulan-Tugas-Kampus-Merdeka/blob/main/Tugas_2_week_VI_Numpy_Data_Types_Zulfatin_Nafisah.ipynb\" target=\"_parent\"><img src=\"https://colab.research.google.com/assets/colab-badge.svg\" alt=\"Open In Colab\"/></a>"
      ]
    },
    {
      "cell_type": "markdown",
      "source": [
        "**Tugas Numpy Week 6**"
      ],
      "metadata": {
        "id": "d2kNSsq8jp9I"
      }
    },
    {
      "cell_type": "markdown",
      "source": [
        "**1.) Bagaimana cara untuk menggunakan NumPy pada python?**\n",
        "\n",
        "**Jawab :**\n",
        "\n",
        "=> Cara untuk menggunakan Numpy pada python library adalah dengan melakukan import menggunakan coding library numpy as np. Penggunaan as disini, artinya kita menggantikan pemanggilan numpy dengan prefix np untuk proses berikutnya.\n",
        "\n",
        "![image.png](data:image/png;base64,iVBORw0KGgoAAAANSUhEUgAAAOYAAABJCAYAAAApIFqAAAAAAXNSR0IArs4c6QAAAARnQU1BAACxjwv8YQUAAAAJcEhZcwAADsMAAA7DAcdvqGQAAAS9SURBVHhe7d29TxtJGMfxx/kXTGQ3h3DlFEhJQxkZCV2Tk0tWaXOtBZXTUtCGCuQ6LTKllWtOlrBSukJHgauLuAa4+D9AIjP7OrtnYPdkk2fN9yORrO3Buzs7v50XI6jc3t7eSUalUgm30u57fpYiZQGkVW5ubu6yISKYwM/1IvwfgCIEE1CIYAIKEUxAIYIJKEQwAYUIJqAQwQQUIpiAQgQTUIhgAgr5wby7S/8ce/Zx5L7nAcwXPSagEMEEFCKYgEIEE1CIYAIKEUxAIYIJKEQwAYUIJqAQwQQUIpiAQgsLJj9XC/x/9JiAQgQTUIhgAgoRTEChpwvmdCQHnb5MwocA7kePCSjk/xk+f4M/xZd20ZeDqy3pblbDJ4CnQ48JKPQEPeZE+p1DGfnPtGS350nT3zbsvHOvL3+vtcwrIxl9MyV29qU22JO+2Za3u9J735TJcUcOv2Zes9Y82f/YklSfZnq6zlGwN1/4HrH4dXssW3L1KXm/1k5PvFfu8boa4u13pZW3A43PzRPvl770zfH73OMJj6WxvR/2zMm+/WN5Od/6icoF526vw1RG0fln6+kh0bmFD++rm+npgeydJKVa2575d128vKOQHHVYqG2UyBMOZW0jGEr9oxNMX9AYxQlFsJ0uH13kIDzBd/oNe1CLL4BfZryRuiD+c1ftTKNLGmTq/VxzGcoG53MZBy9oSGdv0ueQ3Y895mG9G5aZX/0EDf1a2u7N0X//gdSK3HTM90wumtKM682+x5m8zt50/6xLN673oM7HG0ld5PN4HeY695LRMZQ1d7ctv0JXpGZ6h9fxBU+zPUtc8dYrc1fcuJbzqX0wlfOrdCit6mZXdmUgI7+My/YazoVcFHNuH5yGuFJvhFsFzKV+jGpLPmxfyuA0qYzpqambt+0CoQycHXWk04m+ZowwzL7acuiUMTdCSddFbjnq8NFzL5k4mGX43bKr9VkX9VKu/w03n7k89VPdbMvqydD0Q9ZEhici3q/uaOIxtuezPWxPeubGFnyZUKyFLzua790yPROUsewdL+YDs2VrG6Va/BkdZT8HNQ3LDF2D3qQq6/WxDC/8FxJmSDUw9+6iPcJ/2KHRIj6HfVkTGZ+b5h4y+3HnZUU8XD+Rpng74veak2PT0xXuLb/L9bdVcXMwPf2czO1Cdnh54PTMVrW+Ko36SvhovvKde3nEc0xr3vNMWy5ZcMiwk/PfRT7HiwjuYoy7HSwsrP9l5l2yIZcnDy06JHPHRLTQYc163Zq1eJEpa4+3yHwltUASHMNKOBeykgWfYM4U15HZz67pWQ5Nuca730T++DLH+olE5+bWTQH2JpVaYPPE+6cfH4vdXzTvS1lQHfpz8tznXg4LD+a8+JUfL4ggq2j92JvBoF50IUanZWwbfI75HNnh/deWtJcglMuqFD1mejhc7iHKIuSrnxnD+CKfXSq1rG2jNENZ4DlhKAsoRDABhQgmoBDBBBQimIBCqWDyu2ABHegxAYUIJqAQwQQUIpiAQgQTUIhgAgoRTEAhggkoRDABhQgmoBDBBBQimIBCLx76wXV+qB34OegxAYUIJqAQwQQUIpiAQgQTUIhgAgoRTEAhggkoRDABhQgmoI7ID/2Le7UBomiIAAAAAElFTkSuQmCC)\n",
        "\n",
        "\n",
        "=> Jika belum ada NumPy dapat diinstall terlebih dahulu menggunakan pip\n",
        "\n",
        "![image.png](data:image/png;base64,iVBORw0KGgoAAAANSUhEUgAAASMAAABHCAYAAABMMiHVAAAAAXNSR0IArs4c6QAAAARnQU1BAACxjwv8YQUAAAAJcEhZcwAADsMAAA7DAcdvqGQAAATySURBVHhe7d2xbxpnGMfxh/wLdmSWWGEilSIlQxhdIlldWrHV16yZib3UWR2Fte5iytzVwtlou1RI0HTzZDVDmBw5C6jlb3Df93jPd4cPeHEgfYq/H4nk7nj9no+X93fv+2LLucFgcClOLpdzW+lta3zfyjqWxbccgNvrjvsfAP5ThBEAFQgjACoQRgBUIIwAqEAYAVCBMAKgAmEEQAXCCIAKhBEAFe5cXl79NohM2rbG962sYwBwE4yMAKhAGAFQgTACoAJhBEAFwgiACoQRABUIIwAqEEYAVCCMAKhAGAFQgTACoAJhBEAFwgiACoQRABUIIwAqEEYAVCCMAKigJ4yGXTmsNqXndpfqc54LgBdGRur1pFmtSjV8TApQnzKAbrl+v3+Zy+XcrjkwYdsa37eyjo3zKbOS3jflsL8t+0/X3IFPMZTuD23Jvwyk6I5c51MG0ImREQAVljYy6h2/kPqfIl++eC35X15J84N74n4gtZdliccKdopxJN1wuyx7jfRdvXdclaO35pndmmy0DqbU42P6ucK1pIOmnJu6g3tNaZrzhrb2pPEsPdYYdg7l4OTc7ZnadgLz70MJwlFQ8jxJBQlq+1KOvunofG732vMpSx4Z+Vy7GelV610p7NTcaC++zvJuQ4K7UR1l8+p2pWvaKtVuri7fNo3KxW1lry9dF1bHUqdpw86P8urN+eiN+sAdtG/o1kZGkEzuSFHH96vHx7ROO+pgF1cdbtQpzh4nzm077u952b/qDKNOclqKvyY0c5rWk977ohSjesNzn8mj8ZAM+QSNT5lpPK4945ps+7Tz+67MqA4J2yq5nf7evNo0DMiBVFKvh62zJRsTQxv/V+E0bdLfP1vE30UrfPs6frNZD8zdrzSQd0O378nejRdRjxdzh36e6Gzr+YLbctbKUpEjt2BsH+ZuLemv8XVWj+qwj6zR1Gc269p9mDq2w7Zalw0zSnqUbLeEmW1qXufnOxfS6sSNPOy0pLtVIYhW0NLXjO7ls941FzL422162lxQPYtSfNaQRiN+1EqncnA8z+dYdqRg7/DJekznvO+evgV82nTtaUU2T9pmPGT1pH0iEnx1s3EfdFt6GP3x0/hHzeYNdVpyd05/3fpi6lkEO8U4TNytrbX8phTy625vAjsNufro/R8ZfNiUZH8cdn6O10+0urshcvrORKljrim5djYPvzYtSrAr4eiod2xGjoyKVla4ZhRuuLWfaetEWetDWccids2oLU/k45uTiYu08SLlmMRiZrgmISW5OPFd7M0281ypBeXRoum6W9uwooXbaL0jJfH9xkZrSRMX3W041RMTs61Ago9NUz6+Np/Xx6fMTJ7XbqXOZ86xZ0aFR6Zc4etvRH77NVHHtvTD609uj67t4V/ztGn0OkYL2VhFyw+j/Pfy3ReTy/hIL5BiFczbpjYAW/mxDwiwUvg5I+hnRm2tt2WpEEQrbWkjo+jnjEbmn1JF0lOQm9cDPfzadGyKa/GzRSttqdO0iE8ZALcb0zQAKhBGAFQgjACoQBgBUOFaGC3i99EAYF6MjACoQBgBUIEwAqACYQRABcIIgAqEEQAVCCMAKhBGAFQgjACoQBgBUIEwAqDCJ4cRv8sGYBEYGQFQgTACoAJhBEAFwgiACoQRABUIIwAqEEYAVCCMAKhAGAFQgTACoAJhBEABkX8BG49SO9D8ntEAAAAASUVORK5CYII=)\n",
        "\n"
      ],
      "metadata": {
        "id": "NeBo1Woijt5l"
      }
    },
    {
      "cell_type": "markdown",
      "source": [
        "**2.) Setiap lokasi elemen dalam array disebut?**\n",
        "\n",
        "**Jawab :** \n",
        "\n",
        "Setiap lokasi elemen dalam array disebut Index Element \n"
      ],
      "metadata": {
        "id": "ANZil4ovnZkX"
      }
    },
    {
      "cell_type": "markdown",
      "source": [
        "**3.) Diberikan sebuah array dengan fungsi sebagai berikut**\n",
        "\n",
        "x=np.array( [ [1, 2, 3, 4],[5, 6, 7, 8],[10, 11, 12, 13] ] )\n",
        "\n",
        "**Berapakah nilai dari x [2, 1] ?**\n",
        "\n",
        "**Jawab :**\n",
        "\n",
        "Nilai dari x [2, 1] adalah 11.\n",
        "\n",
        "Berikut codenya:"
      ],
      "metadata": {
        "id": "EQn4vmOJszUq"
      }
    },
    {
      "cell_type": "code",
      "execution_count": 2,
      "metadata": {
        "colab": {
          "base_uri": "https://localhost:8080/"
        },
        "id": "AXBkJkoZh76A",
        "outputId": "0d332885-b28b-404a-c8d8-1199df39ebd5"
      },
      "outputs": [
        {
          "output_type": "stream",
          "name": "stdout",
          "text": [
            "11\n"
          ]
        }
      ],
      "source": [
        "import numpy as np\n",
        "\n",
        "x = np.array([[1,2,3,4],[5,6,7,8],[10,11,12,13]])\n",
        "print(x[2,1])"
      ]
    },
    {
      "cell_type": "markdown",
      "source": [
        "**4.) Diberikan sebuah array dengan fungsi sebagai berikut**\n",
        "\n",
        "nama = np.array( [ \"Ria\" , \"Sahid\" , \"Hayah\" , \"Maryam\" ,\n",
        "\"Fandy\" ] )\n",
        "\n",
        "**Jika nama Haya akan diganti dengan Afifah, tuliskan fungsi/code pada python untuk array tersebut**\n",
        "\n",
        "**Jawab :**\n",
        "\n"
      ],
      "metadata": {
        "id": "n3rvNSJwubu0"
      }
    },
    {
      "cell_type": "code",
      "source": [
        "nama = np.array([\"Ria\" , \"Sahid\" , \"Hayah\" , \"Maryam\" ,\"Fandy\"])\n",
        "nama[2] = \"Afifah\"\n",
        "print(nama)"
      ],
      "metadata": {
        "colab": {
          "base_uri": "https://localhost:8080/"
        },
        "id": "REu6P2jjuy1E",
        "outputId": "8f5d96aa-4b9a-42b0-925b-0ebdbf698fa3"
      },
      "execution_count": 3,
      "outputs": [
        {
          "output_type": "stream",
          "name": "stdout",
          "text": [
            "['Ria' 'Sahid' 'Afifah' 'Maryam' 'Fandy']\n"
          ]
        }
      ]
    },
    {
      "cell_type": "markdown",
      "source": [
        "**5.) Tuliskan fungsi untuk mengubah sebuah data type array menjadi float. Perhatikan array sebelum dan sesudah.**\n",
        "\n",
        "\n",
        "Sebelum :  \n",
        "\n",
        "[1 2 3 4]\n",
        "\n",
        "Sesudah :\n",
        "\n",
        "[1. 2. 3. 4.]"
      ],
      "metadata": {
        "id": "-SIAAzLRvycI"
      }
    },
    {
      "cell_type": "code",
      "source": [
        "angka = np.array([1, 2, 3, 4])\n",
        "print(angka)\n",
        "print(angka.dtype)"
      ],
      "metadata": {
        "id": "gBc_CCekw34_",
        "colab": {
          "base_uri": "https://localhost:8080/"
        },
        "outputId": "e0ab982b-d7a0-4e47-dc8e-64d367fb732a"
      },
      "execution_count": 4,
      "outputs": [
        {
          "output_type": "stream",
          "name": "stdout",
          "text": [
            "[1 2 3 4]\n",
            "int64\n"
          ]
        }
      ]
    },
    {
      "cell_type": "code",
      "source": [
        "new_angka = angka.astype('f')\n",
        "print(new_angka)\n",
        "print(new_angka.dtype)"
      ],
      "metadata": {
        "colab": {
          "base_uri": "https://localhost:8080/"
        },
        "id": "BHbOEygQxn6Q",
        "outputId": "2f45fc8a-968d-46ad-bc38-a7da4c0d913d"
      },
      "execution_count": 5,
      "outputs": [
        {
          "output_type": "stream",
          "name": "stdout",
          "text": [
            "[1. 2. 3. 4.]\n",
            "float32\n"
          ]
        }
      ]
    },
    {
      "cell_type": "markdown",
      "source": [
        "**6.) Tulis fungsi/code NumPy untuk mengubah list nilai numerik ( 12.23, 13.32, 100, 36.32 ) menjadi array NumPy satu dimensi.**"
      ],
      "metadata": {
        "id": "f4FARs9Sx5xr"
      }
    },
    {
      "cell_type": "code",
      "source": [
        "list_numerik = [12.23, 13.32, 100, 36.32]\n",
        "arr_numerik = np.array(list_numerik)\n",
        "print(arr_numerik)\n",
        "print(arr_numerik.dtype)"
      ],
      "metadata": {
        "id": "9ql9JEQeyE85",
        "colab": {
          "base_uri": "https://localhost:8080/"
        },
        "outputId": "0a4c7903-9e73-46fb-a7c4-4963b7609c73"
      },
      "execution_count": 6,
      "outputs": [
        {
          "output_type": "stream",
          "name": "stdout",
          "text": [
            "[ 12.23  13.32 100.    36.32]\n",
            "float64\n"
          ]
        }
      ]
    },
    {
      "cell_type": "markdown",
      "source": [
        "**7.) Tulis fungsi/code NumPy untuk menampilkan hari ini, kemarin, dan besok**"
      ],
      "metadata": {
        "id": "7_as70RYXxZy"
      }
    },
    {
      "cell_type": "code",
      "source": [
        "skrg = np.datetime64('today', 'D')\n",
        "kmrn = np.datetime64('today', 'D') - np.timedelta64(1, 'D')\n",
        "bsk = np.datetime64('today', 'D') + np.timedelta64(1, 'D')\n",
        "\n",
        "print(\"Hari ini adalah tanggal\", skrg)\n",
        "print(\"Kemarin adalah tanggal\", kmrn)\n",
        "print(\"Besok ini adalah tanggal\", bsk)"
      ],
      "metadata": {
        "colab": {
          "base_uri": "https://localhost:8080/"
        },
        "id": "ZILGjasCYDAG",
        "outputId": "9ca31f55-c637-4f25-9eb6-b633d424587d"
      },
      "execution_count": 7,
      "outputs": [
        {
          "output_type": "stream",
          "name": "stdout",
          "text": [
            "Hari ini adalah tanggal 2022-10-04\n",
            "Kemarin adalah tanggal 2022-10-03\n",
            "Besok ini adalah tanggal 2022-10-05\n"
          ]
        }
      ]
    }
  ]
}