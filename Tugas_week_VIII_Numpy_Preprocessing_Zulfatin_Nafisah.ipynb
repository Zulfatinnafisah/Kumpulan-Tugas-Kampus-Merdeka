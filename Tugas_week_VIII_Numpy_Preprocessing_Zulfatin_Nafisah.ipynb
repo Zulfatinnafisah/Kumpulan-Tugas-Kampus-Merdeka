{
  "nbformat": 4,
  "nbformat_minor": 0,
  "metadata": {
    "colab": {
      "provenance": [],
      "authorship_tag": "ABX9TyPijacGol495Ct34yJBm+a5",
      "include_colab_link": true
    },
    "kernelspec": {
      "name": "python3",
      "display_name": "Python 3"
    },
    "language_info": {
      "name": "python"
    }
  },
  "cells": [
    {
      "cell_type": "markdown",
      "metadata": {
        "id": "view-in-github",
        "colab_type": "text"
      },
      "source": [
        "<a href=\"https://colab.research.google.com/github/Zulfatinnafisah/Kumpulan-Tugas-Kampus-Merdeka/blob/main/Tugas_week_VIII_Numpy_Preprocessing_Zulfatin_Nafisah.ipynb\" target=\"_parent\"><img src=\"https://colab.research.google.com/assets/colab-badge.svg\" alt=\"Open In Colab\"/></a>"
      ]
    },
    {
      "cell_type": "markdown",
      "source": [
        "#**Tugas Numpy Week 8**"
      ],
      "metadata": {
        "id": "mQOgtMGYgXOg"
      }
    },
    {
      "cell_type": "markdown",
      "source": [
        "1.) Buatlah sebuah array dari nilai random antara 10-100 dengan ukuran 1x60\n",
        "Tentukan nilai berikut:\n",
        "- Ubah ukuran array tersebut menjadi 6x10\n",
        "- Transpose array baru di atas\n",
        "- Dari hasil transpose, Temukan elemen dengan nilai di bawah 50, dan ganti elemen tersebut\n",
        "dengan nilai 50"
      ],
      "metadata": {
        "id": "boYk2cFVggBQ"
      }
    },
    {
      "cell_type": "code",
      "source": [
        "#import library numpy\n",
        "import numpy as np"
      ],
      "metadata": {
        "id": "IDfa4zwoiOds"
      },
      "execution_count": 52,
      "outputs": []
    },
    {
      "cell_type": "code",
      "source": [
        "#membuat array dengan nilai random antara 10-100 dengan ukuran 1x60\n",
        "array =np.random.randint(10,100, size=60)\n",
        "print(array)"
      ],
      "metadata": {
        "colab": {
          "base_uri": "https://localhost:8080/"
        },
        "id": "u84ZnMzaiTlj",
        "outputId": "2501d92e-8ce1-4d28-e612-f98160a5cc8e"
      },
      "execution_count": 53,
      "outputs": [
        {
          "output_type": "stream",
          "name": "stdout",
          "text": [
            "[60 67 57 75 75 81 37 42 52 34 34 80 86 87 82 35 32 24 30 46 11 80 57 70\n",
            " 35 70 38 79 86 86 92 62 52 67 99 36 40 18 40 62 58 62 42 38 74 83 67 53\n",
            " 84 28 47 31 97 83 23 22 31 97 43 10]\n"
          ]
        }
      ]
    },
    {
      "cell_type": "code",
      "source": [
        "#mengubah ukuran array menjadi 6x10\n",
        "newarray = np.reshape(array, (6, 10))\n",
        "print(newarray)"
      ],
      "metadata": {
        "colab": {
          "base_uri": "https://localhost:8080/"
        },
        "id": "hMbyeeFripo3",
        "outputId": "38781987-5b3a-48b7-f3ef-d3bdcc4f1f62"
      },
      "execution_count": 54,
      "outputs": [
        {
          "output_type": "stream",
          "name": "stdout",
          "text": [
            "[[60 67 57 75 75 81 37 42 52 34]\n",
            " [34 80 86 87 82 35 32 24 30 46]\n",
            " [11 80 57 70 35 70 38 79 86 86]\n",
            " [92 62 52 67 99 36 40 18 40 62]\n",
            " [58 62 42 38 74 83 67 53 84 28]\n",
            " [47 31 97 83 23 22 31 97 43 10]]\n"
          ]
        }
      ]
    },
    {
      "cell_type": "code",
      "source": [
        "#mentranspose array baru\n",
        "newarray_transpose = np.transpose(newarray)\n",
        "print(newarray_transpose)"
      ],
      "metadata": {
        "colab": {
          "base_uri": "https://localhost:8080/"
        },
        "id": "qRoZq2hxn12C",
        "outputId": "948dc615-2c33-4bfb-cca8-7e5038ef4c43"
      },
      "execution_count": 55,
      "outputs": [
        {
          "output_type": "stream",
          "name": "stdout",
          "text": [
            "[[60 34 11 92 58 47]\n",
            " [67 80 80 62 62 31]\n",
            " [57 86 57 52 42 97]\n",
            " [75 87 70 67 38 83]\n",
            " [75 82 35 99 74 23]\n",
            " [81 35 70 36 83 22]\n",
            " [37 32 38 40 67 31]\n",
            " [42 24 79 18 53 97]\n",
            " [52 30 86 40 84 43]\n",
            " [34 46 86 62 28 10]]\n"
          ]
        }
      ]
    },
    {
      "cell_type": "code",
      "source": [
        "#menemukan elemen dengan nilai dibawah 50 dan mengganti elemen tersebut dengan nilai 50\n",
        "np.where(newarray_transpose < 50, 50, newarray_transpose)"
      ],
      "metadata": {
        "colab": {
          "base_uri": "https://localhost:8080/"
        },
        "id": "oLz8YB8Bn4Vx",
        "outputId": "db9aa6c3-babc-4a1d-b070-acab59c35c2e"
      },
      "execution_count": 56,
      "outputs": [
        {
          "output_type": "execute_result",
          "data": {
            "text/plain": [
              "array([[60, 50, 50, 92, 58, 50],\n",
              "       [67, 80, 80, 62, 62, 50],\n",
              "       [57, 86, 57, 52, 50, 97],\n",
              "       [75, 87, 70, 67, 50, 83],\n",
              "       [75, 82, 50, 99, 74, 50],\n",
              "       [81, 50, 70, 50, 83, 50],\n",
              "       [50, 50, 50, 50, 67, 50],\n",
              "       [50, 50, 79, 50, 53, 97],\n",
              "       [52, 50, 86, 50, 84, 50],\n",
              "       [50, 50, 86, 62, 50, 50]])"
            ]
          },
          "metadata": {},
          "execution_count": 56
        }
      ]
    },
    {
      "cell_type": "markdown",
      "source": [
        "2.) Buatlah array1 dari nilai random normal ukuran 1 x 20\n",
        "\n",
        "Buatlah array2 yang berisi 20 elemen dengan jarak yang sama antara 1 sampai 100\n",
        "Tentukan nilai berikut:\n",
        "- Gabungkan kedua array tersebut dengan penggabungan vertikal dan horizontal\n",
        "- Dari penggabungan secara horizontal, temukan elemen dengan nilai di atas 60, dan ganti\n",
        "elemen tersebut dengan nilai 0"
      ],
      "metadata": {
        "id": "WzOp-VDKglKG"
      }
    },
    {
      "cell_type": "code",
      "source": [
        "#membuat array1 dari nilai random normal ukuran 1 x 20\n",
        "array1 = np.random.randint(0, 100, size = 20)\n",
        "print(array1)"
      ],
      "metadata": {
        "colab": {
          "base_uri": "https://localhost:8080/"
        },
        "id": "LlJj_QSKoFFJ",
        "outputId": "2aeddcba-7cda-4748-aff6-f94acd9b021e"
      },
      "execution_count": 57,
      "outputs": [
        {
          "output_type": "stream",
          "name": "stdout",
          "text": [
            "[ 0 31 40  0  0 92 85 66 65 18  8 10 29 54 59 91 15 55 10 51]\n"
          ]
        }
      ]
    },
    {
      "cell_type": "code",
      "source": [
        "#membuat array2 yang berisi 20 elemen dengan jarak yang sama antara 1 sampai 100\n",
        "array2 = np.linspace(1,100,20)\n",
        "print(array2)"
      ],
      "metadata": {
        "colab": {
          "base_uri": "https://localhost:8080/"
        },
        "id": "TOp8npYGpWWQ",
        "outputId": "60ec5466-f527-4052-f494-f0265d3f0a3e"
      },
      "execution_count": 58,
      "outputs": [
        {
          "output_type": "stream",
          "name": "stdout",
          "text": [
            "[  1.           6.21052632  11.42105263  16.63157895  21.84210526\n",
            "  27.05263158  32.26315789  37.47368421  42.68421053  47.89473684\n",
            "  53.10526316  58.31578947  63.52631579  68.73684211  73.94736842\n",
            "  79.15789474  84.36842105  89.57894737  94.78947368 100.        ]\n"
          ]
        }
      ]
    },
    {
      "cell_type": "code",
      "source": [
        "#menggabungkan array1 dan array2 dengan penggabungan vertikal dan horizontal \n",
        "\n",
        "#Penggabungan secara vertikal\n",
        "v_arr=np.column_stack([array1, array2])\n",
        "print(v_arr)\n",
        "\n",
        "#Penggabungan secara horizontal\n",
        "h_arr=np.concatenate([array1, array2])\n",
        "print(h_arr)"
      ],
      "metadata": {
        "colab": {
          "base_uri": "https://localhost:8080/"
        },
        "id": "9ryNrG8npwhP",
        "outputId": "b651594d-190b-4ae7-d5ac-68e68af59f79"
      },
      "execution_count": 59,
      "outputs": [
        {
          "output_type": "stream",
          "name": "stdout",
          "text": [
            "[[  0.           1.        ]\n",
            " [ 31.           6.21052632]\n",
            " [ 40.          11.42105263]\n",
            " [  0.          16.63157895]\n",
            " [  0.          21.84210526]\n",
            " [ 92.          27.05263158]\n",
            " [ 85.          32.26315789]\n",
            " [ 66.          37.47368421]\n",
            " [ 65.          42.68421053]\n",
            " [ 18.          47.89473684]\n",
            " [  8.          53.10526316]\n",
            " [ 10.          58.31578947]\n",
            " [ 29.          63.52631579]\n",
            " [ 54.          68.73684211]\n",
            " [ 59.          73.94736842]\n",
            " [ 91.          79.15789474]\n",
            " [ 15.          84.36842105]\n",
            " [ 55.          89.57894737]\n",
            " [ 10.          94.78947368]\n",
            " [ 51.         100.        ]]\n",
            "[  0.          31.          40.           0.           0.\n",
            "  92.          85.          66.          65.          18.\n",
            "   8.          10.          29.          54.          59.\n",
            "  91.          15.          55.          10.          51.\n",
            "   1.           6.21052632  11.42105263  16.63157895  21.84210526\n",
            "  27.05263158  32.26315789  37.47368421  42.68421053  47.89473684\n",
            "  53.10526316  58.31578947  63.52631579  68.73684211  73.94736842\n",
            "  79.15789474  84.36842105  89.57894737  94.78947368 100.        ]\n"
          ]
        }
      ]
    },
    {
      "cell_type": "code",
      "source": [
        "#menemukan elemen dengan nilai di atas 60 dan mengganti elemen tersebut dengan nilai 0 pada penggabungan horizontal\n",
        "print(np.where(h_arr > 60,0, h_arr))"
      ],
      "metadata": {
        "colab": {
          "base_uri": "https://localhost:8080/"
        },
        "id": "BDmQAGKNp6TA",
        "outputId": "89f4ec15-691f-4ae2-c9c5-a64b54136ea4"
      },
      "execution_count": 60,
      "outputs": [
        {
          "output_type": "stream",
          "name": "stdout",
          "text": [
            "[ 0.         31.         40.          0.          0.          0.\n",
            "  0.          0.          0.         18.          8.         10.\n",
            " 29.         54.         59.          0.         15.         55.\n",
            " 10.         51.          1.          6.21052632 11.42105263 16.63157895\n",
            " 21.84210526 27.05263158 32.26315789 37.47368421 42.68421053 47.89473684\n",
            " 53.10526316 58.31578947  0.          0.          0.          0.\n",
            "  0.          0.          0.          0.        ]\n"
          ]
        }
      ]
    },
    {
      "cell_type": "markdown",
      "source": [
        "3.) Import data menggunakan file “Lending-Company-Numeric-Data.csv”\n",
        "dan hanya tampilkan kolom dengan indeks ke 1,2, dan 3\n",
        "\n",
        "Hitunglah mean dari setiap kolom tersebut !"
      ],
      "metadata": {
        "id": "T0GL3GTTgtlB"
      }
    },
    {
      "cell_type": "code",
      "source": [
        "#mengimport data dan menampilkan kolom dengan indeks ke 1, 2, dan 3\n",
        "lending_data = np.genfromtxt(\"Lending-Company-Numeric-Data.csv\", delimiter = ',')\n",
        "print(lending_data[:3])\n",
        "\n",
        "#menghitung mean dari setiap kolom\n",
        "lending_data_mean = np.nanmean(lending_data, axis = 0).round(2)\n",
        "print(lending_data_mean)"
      ],
      "metadata": {
        "colab": {
          "base_uri": "https://localhost:8080/"
        },
        "id": "5bx-E2H5pjc1",
        "outputId": "aa0c96ac-dbd3-41d6-d1db-b8784b32629e"
      },
      "execution_count": 61,
      "outputs": [
        {
          "output_type": "stream",
          "name": "stdout",
          "text": [
            "[[ 2000.    40.   365.  3121.  4241. 13621.]\n",
            " [ 2000.    40.   365.  3061.  4171. 15041.]\n",
            " [ 1000.    40.   365.  2160.  3280. 15340.]]\n",
            "[ 2257.43    46.09   365.    3926.74  5181.   16618.91]\n"
          ]
        }
      ]
    },
    {
      "cell_type": "markdown",
      "source": [
        "4.) Import data menggunakan file “Lending-company-Numeric-NAN.csv”\n",
        "- Hitunglah jumlah NAN dari semua elemen di data tersebut\n",
        "- Hitunglah jumlah NAN dari setiap kolom di data tersebut\n",
        "\n",
        "Note:\n",
        "\n",
        "dapat menggunakan sum(axis=)"
      ],
      "metadata": {
        "id": "xu1kug-xg5T5"
      }
    },
    {
      "cell_type": "code",
      "source": [
        "#Mengimport data dan menampilkan isi dari data tersebut\n",
        "lending_nan = np.genfromtxt(\"Lending-company-Numeric-NAN.csv\", delimiter = ';')\n",
        "print(lending_nan)"
      ],
      "metadata": {
        "id": "2ULqElFqqzIv",
        "outputId": "f91a942d-82d8-4f63-93c8-0b0a68673f7a",
        "colab": {
          "base_uri": "https://localhost:8080/"
        }
      },
      "execution_count": 63,
      "outputs": [
        {
          "output_type": "stream",
          "name": "stdout",
          "text": [
            "[[ 2000.    40.   365.  3121.  4241. 13621.]\n",
            " [ 2000.    40.   365.  3061.  4171. 15041.]\n",
            " [ 1000.    40.   365.  2160.  3280. 15340.]\n",
            " ...\n",
            " [   nan    40.   365.  4201.  5001. 16600.]\n",
            " [ 1000.    40.   365.  2080.  3320. 15600.]\n",
            " [ 2000.    40.   365.  4601.  4601. 16600.]]\n"
          ]
        }
      ]
    },
    {
      "cell_type": "code",
      "source": [
        "#menghitung jumlah NAN dari semua elemen \n",
        "np.isnan(lending_nan).sum()"
      ],
      "metadata": {
        "colab": {
          "base_uri": "https://localhost:8080/"
        },
        "id": "xcqupU8UuH-l",
        "outputId": "c9c508bc-d088-46a2-c46e-d7333d53ce0e"
      },
      "execution_count": 64,
      "outputs": [
        {
          "output_type": "execute_result",
          "data": {
            "text/plain": [
              "260"
            ]
          },
          "metadata": {},
          "execution_count": 64
        }
      ]
    },
    {
      "cell_type": "code",
      "source": [
        "#menghitung jumlah NAN dari setiap kolom\n",
        "print(np.isnan(lending_nan).sum(axis = 0))"
      ],
      "metadata": {
        "colab": {
          "base_uri": "https://localhost:8080/"
        },
        "id": "BnFUCjM_ugM6",
        "outputId": "c1d92ab4-3125-4a67-fc3c-33bd1900a136"
      },
      "execution_count": 65,
      "outputs": [
        {
          "output_type": "stream",
          "name": "stdout",
          "text": [
            "[34 48 52 62 38 26]\n"
          ]
        }
      ]
    },
    {
      "cell_type": "markdown",
      "source": [
        "5.) Import data menggunakan file “Lending-Company-Numeric-Data.csv”\n",
        "- Hitunglah elemen unik dari kolom pertama di data tersebut (keluarkan juga jumlah element\n",
        "untuk setiap elemen unik tersebut)\n",
        "- Delete kolom ke-2 dan ke-6 dari data tersebut dan simpan menjadi data_2\n",
        "- hitung nilai rata-rata dari data_2"
      ],
      "metadata": {
        "id": "tU3dK7aGhGPW"
      }
    },
    {
      "cell_type": "code",
      "source": [
        "#Mengimport data dan menampilkan isi dari data tersebut\n",
        "company_data = np.genfromtxt(\"Lending-Company-Numeric-Data.csv\", delimiter = ',')\n",
        "print(company_data)"
      ],
      "metadata": {
        "colab": {
          "base_uri": "https://localhost:8080/"
        },
        "id": "GTb9unk5us9Y",
        "outputId": "b456f80f-ff05-42d1-a52f-625b6eff4cb5"
      },
      "execution_count": 66,
      "outputs": [
        {
          "output_type": "stream",
          "name": "stdout",
          "text": [
            "[[ 2000.    40.   365.  3121.  4241. 13621.]\n",
            " [ 2000.    40.   365.  3061.  4171. 15041.]\n",
            " [ 1000.    40.   365.  2160.  3280. 15340.]\n",
            " ...\n",
            " [ 2000.    40.   365.  4201.  5001. 16600.]\n",
            " [ 1000.    40.   365.  2080.  3320. 15600.]\n",
            " [ 2000.    40.   365.  4601.  4601. 16600.]]\n"
          ]
        }
      ]
    },
    {
      "cell_type": "code",
      "source": [
        "#menghitung elemen unik dari kolom pertama\n",
        "print(np.unique(company_data[:,0]))\n",
        "\n",
        "#Menghitung jumlah elemen unik\n",
        "print(len(np.unique(company_data[:,0])))"
      ],
      "metadata": {
        "colab": {
          "base_uri": "https://localhost:8080/"
        },
        "id": "gjUoJ51mu7bx",
        "outputId": "41394633-5b77-4823-c129-820888bf73a6"
      },
      "execution_count": 67,
      "outputs": [
        {
          "output_type": "stream",
          "name": "stdout",
          "text": [
            "[1000. 2000. 2500. 4000. 9000.]\n",
            "5\n"
          ]
        }
      ]
    },
    {
      "cell_type": "code",
      "source": [
        "#menghapus kolom ke-2 dan ke-6\n",
        "data_2 = np.delete(company_data, [1,5] , axis = 1)\n",
        "print(data_2)"
      ],
      "metadata": {
        "colab": {
          "base_uri": "https://localhost:8080/"
        },
        "id": "Y9PLy6CWvoYW",
        "outputId": "e1aa2677-5a85-4b09-c2a0-30f10e85dcfe"
      },
      "execution_count": 68,
      "outputs": [
        {
          "output_type": "stream",
          "name": "stdout",
          "text": [
            "[[2000.  365. 3121. 4241.]\n",
            " [2000.  365. 3061. 4171.]\n",
            " [1000.  365. 2160. 3280.]\n",
            " ...\n",
            " [2000.  365. 4201. 5001.]\n",
            " [1000.  365. 2080. 3320.]\n",
            " [2000.  365. 4601. 4601.]]\n"
          ]
        }
      ]
    },
    {
      "cell_type": "code",
      "source": [
        "#menghitung nilai rata-rata dari data_2\n",
        "np.nanmean(company_data).round(2)"
      ],
      "metadata": {
        "colab": {
          "base_uri": "https://localhost:8080/"
        },
        "id": "swAmbxCgvOXe",
        "outputId": "fe769d2a-cbea-4d9a-955d-ec62ec99ef04"
      },
      "execution_count": 70,
      "outputs": [
        {
          "output_type": "execute_result",
          "data": {
            "text/plain": [
              "4732.53"
            ]
          },
          "metadata": {},
          "execution_count": 70
        }
      ]
    }
  ]
}