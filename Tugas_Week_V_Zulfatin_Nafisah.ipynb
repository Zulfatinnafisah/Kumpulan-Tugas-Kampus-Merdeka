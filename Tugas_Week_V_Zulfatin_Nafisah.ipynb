{
  "cells": [
    {
      "cell_type": "markdown",
      "metadata": {
        "id": "view-in-github",
        "colab_type": "text"
      },
      "source": [
        "<a href=\"https://colab.research.google.com/github/Zulfatinnafisah/Kumpulan-Tugas-Kampus-Merdeka/blob/main/Tugas_Week_V_Zulfatin_Nafisah.ipynb\" target=\"_parent\"><img src=\"https://colab.research.google.com/assets/colab-badge.svg\" alt=\"Open In Colab\"/></a>"
      ]
    },
    {
      "cell_type": "markdown",
      "metadata": {
        "id": "D8VSpUD9Utdz"
      },
      "source": [
        "#**Exercise Working With Text Data**"
      ]
    },
    {
      "cell_type": "markdown",
      "metadata": {
        "id": "qAS5e2VBU2EO"
      },
      "source": [
        "**Exercise 1**\n",
        "\n",
        "**Basic Numpy**"
      ]
    },
    {
      "cell_type": "markdown",
      "metadata": {
        "id": "EJuy4QlLU-2H"
      },
      "source": [
        "1.) Urutkan sebuah list tanpa menggunakan method\n",
        "sort : [1,25,7,8,10,13,100]!"
      ]
    },
    {
      "cell_type": "code",
      "execution_count": 22,
      "metadata": {
        "colab": {
          "base_uri": "https://localhost:8080/"
        },
        "id": "6SBgSY-FVG62",
        "outputId": "75c40877-6449-4dc4-9d0a-3b91a4d6195f"
      },
      "outputs": [
        {
          "output_type": "stream",
          "name": "stdout",
          "text": [
            "[1, 25, 7, 8, 10, 13, 100]\n"
          ]
        }
      ],
      "source": [
        "#Membuat data list dengan variabel x\n",
        "x = [1, 25, 7, 8, 10, 13, 100]\n",
        "\n",
        "#Cetak variabel x\n",
        "print(x)"
      ]
    },
    {
      "cell_type": "code",
      "source": [
        "#Mengurutkan data di dalam list dari yang terkecil ke yang terbesar\n",
        "sorted_x = sorted(x)\n",
        "\n",
        "#Menampilkan nilai dari variabel x setelah pengurutan\n",
        "sorted(x)"
      ],
      "metadata": {
        "colab": {
          "base_uri": "https://localhost:8080/"
        },
        "id": "Jl3Eng9-iVNx",
        "outputId": "bbb853a6-782c-44be-d934-059cec33d51c"
      },
      "execution_count": 23,
      "outputs": [
        {
          "output_type": "execute_result",
          "data": {
            "text/plain": [
              "[1, 7, 8, 10, 13, 25, 100]"
            ]
          },
          "metadata": {},
          "execution_count": 23
        }
      ]
    },
    {
      "cell_type": "markdown",
      "metadata": {
        "id": "r2iOfFN8VC88"
      },
      "source": [
        "2.) Ubahlah data ini menjadi data tuple\n",
        "[‘Great’,’edu’,’terbaik’]!"
      ]
    },
    {
      "cell_type": "code",
      "execution_count": null,
      "metadata": {
        "colab": {
          "base_uri": "https://localhost:8080/"
        },
        "id": "x4bcdgYtUjbR",
        "outputId": "74aa00a6-9df3-4e73-e240-1681f761d4bd"
      },
      "outputs": [
        {
          "name": "stdout",
          "output_type": "stream",
          "text": [
            "<class 'list'>\n"
          ]
        }
      ],
      "source": [
        "#Membuat data list dengan variabel data\n",
        "data = ['Great','edu','terbaik']\n",
        "\n",
        "#Cek type data variabel tersebut\n",
        "print(type(data))"
      ]
    },
    {
      "cell_type": "code",
      "execution_count": null,
      "metadata": {
        "colab": {
          "base_uri": "https://localhost:8080/"
        },
        "id": "9eRPbFq7YcQr",
        "outputId": "44e11130-b841-42d8-9797-ca5466dd166e"
      },
      "outputs": [
        {
          "name": "stdout",
          "output_type": "stream",
          "text": [
            "('Great', 'edu', 'terbaik')\n",
            "<class 'tuple'>\n"
          ]
        }
      ],
      "source": [
        "#Mengubah data list menjadi data tuple dengan variabel a\n",
        "a = tuple(data)\n",
        "\n",
        "#Cetak variabel a\n",
        "print(a)\n",
        "\n",
        "#Cek type data variabel tersebut\n",
        "print(type(a))"
      ]
    }
  ],
  "metadata": {
    "colab": {
      "provenance": [],
      "authorship_tag": "ABX9TyMfJLXtPFSNIVc08Vy21S2t",
      "include_colab_link": true
    },
    "kernelspec": {
      "display_name": "Python 3",
      "name": "python3"
    },
    "language_info": {
      "name": "python"
    }
  },
  "nbformat": 4,
  "nbformat_minor": 0
}