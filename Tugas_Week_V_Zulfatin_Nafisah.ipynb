{
  "cells": [
    {
      "cell_type": "markdown",
      "metadata": {
        "id": "view-in-github",
        "colab_type": "text"
      },
      "source": [
        "<a href=\"https://colab.research.google.com/github/Zulfatinnafisah/Kumpulan-Tugas-Kampus-Merdeka/blob/main/Tugas_Week_V_Zulfatin_Nafisah.ipynb\" target=\"_parent\"><img src=\"https://colab.research.google.com/assets/colab-badge.svg\" alt=\"Open In Colab\"/></a>"
      ]
    },
    {
      "cell_type": "markdown",
      "metadata": {
        "id": "D8VSpUD9Utdz"
      },
      "source": [
        "#**Exercise Working With Text Data**"
      ]
    },
    {
      "cell_type": "markdown",
      "metadata": {
        "id": "qAS5e2VBU2EO"
      },
      "source": [
        "**Exercise 1**\n",
        "\n",
        "**Basic Numpy**"
      ]
    },
    {
      "cell_type": "markdown",
      "metadata": {
        "id": "EJuy4QlLU-2H"
      },
      "source": [
        "1.) Urutkan sebuah list tanpa menggunakan method\n",
        "sort : [1,25,7,8,10,13,100]!"
      ]
    },
    {
      "cell_type": "code",
      "source": [
        "#Menggunakan method Bubble Sort\n",
        "def bubble_sort(array):\n",
        "    n = len(array) # jumlah list\n",
        "    # perulangan pertama\n",
        "    for i in range(n): \n",
        "        # perulangan kedua\n",
        "        for j in range(n - i - 1):\n",
        "            # bandingkan masing\" elemen\n",
        "            if array[j] > array[j + 1]:\n",
        "                # jika lebih besar, tukar.\n",
        "                array[j], array[j + 1] = array[j + 1], array[j]\n",
        "    return array"
      ],
      "metadata": {
        "id": "csf2479ZmPoJ"
      },
      "execution_count": 30,
      "outputs": []
    },
    {
      "cell_type": "code",
      "source": [
        "#Membuat data list dengan variabel angka\n",
        "angka = [1, 25, 7, 8, 10, 13, 100]\n",
        "\n",
        "#Menampilkan nilai dari variabel angka setelah pengurutan\n",
        "print(bubble_sort(angka))"
      ],
      "metadata": {
        "colab": {
          "base_uri": "https://localhost:8080/"
        },
        "id": "JMcjzQ9UmhcG",
        "outputId": "cfda6388-06a5-4879-d1e3-c34499e1d9f4"
      },
      "execution_count": 31,
      "outputs": [
        {
          "output_type": "stream",
          "name": "stdout",
          "text": [
            "[1, 7, 8, 10, 13, 25, 100]\n"
          ]
        }
      ]
    },
    {
      "cell_type": "markdown",
      "metadata": {
        "id": "r2iOfFN8VC88"
      },
      "source": [
        " 2.) Ubahlah data ini menjadi data tuple\n",
        "[ ‘Great’, ’edu’, ’terbaik’ ]!"
      ]
    },
    {
      "cell_type": "code",
      "execution_count": 32,
      "metadata": {
        "colab": {
          "base_uri": "https://localhost:8080/"
        },
        "id": "x4bcdgYtUjbR",
        "outputId": "23e67f5c-1517-4fe4-f1a9-057bcc22a05e"
      },
      "outputs": [
        {
          "output_type": "stream",
          "name": "stdout",
          "text": [
            "<class 'list'>\n"
          ]
        }
      ],
      "source": [
        "#Membuat data list dengan variabel data\n",
        "data = ['Great','edu','terbaik']\n",
        "\n",
        "#Cek type data variabel tersebut\n",
        "print(type(data))"
      ]
    },
    {
      "cell_type": "code",
      "execution_count": 33,
      "metadata": {
        "colab": {
          "base_uri": "https://localhost:8080/"
        },
        "id": "9eRPbFq7YcQr",
        "outputId": "90401ed4-7220-48db-b600-2b5c97228333"
      },
      "outputs": [
        {
          "output_type": "stream",
          "name": "stdout",
          "text": [
            "('Great', 'edu', 'terbaik')\n",
            "<class 'tuple'>\n"
          ]
        }
      ],
      "source": [
        "#Mengubah data list menjadi data tuple dengan variabel a\n",
        "a = tuple(data)\n",
        "\n",
        "#Cetak variabel a\n",
        "print(a)\n",
        "\n",
        "#Cek type data variabel tersebut\n",
        "print(type(a))"
      ]
    }
  ],
  "metadata": {
    "colab": {
      "provenance": [],
      "authorship_tag": "ABX9TyO5hDDSrjVyCsseTpT/Stkg",
      "include_colab_link": true
    },
    "kernelspec": {
      "display_name": "Python 3",
      "name": "python3"
    },
    "language_info": {
      "name": "python"
    }
  },
  "nbformat": 4,
  "nbformat_minor": 0
}